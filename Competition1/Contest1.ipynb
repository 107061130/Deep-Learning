{
 "cells": [
  {
   "cell_type": "code",
   "execution_count": 1,
   "metadata": {},
   "outputs": [],
   "source": [
    "import warnings\n",
    "warnings.filterwarnings(\"ignore\")\n",
    "%matplotlib inline"
   ]
  },
  {
   "cell_type": "code",
   "execution_count": 2,
   "metadata": {},
   "outputs": [
    {
     "data": {
      "text/plain": [
       "131072"
      ]
     },
     "execution_count": 2,
     "metadata": {},
     "output_type": "execute_result"
    }
   ],
   "source": [
    "import sys\n",
    "import csv\n",
    "csv.field_size_limit(sys.maxsize)"
   ]
  },
  {
   "cell_type": "code",
   "execution_count": 3,
   "metadata": {},
   "outputs": [
    {
     "name": "stdout",
     "output_type": "stream",
     "text": [
      "   Id  Popularity                                       Page content\n",
      "0   0          -1  <html><head><div class=\"article-info\"> <span c...\n",
      "1   1           1  <html><head><div class=\"article-info\"><span cl...\n",
      "2   2           1  <html><head><div class=\"article-info\"><span cl...\n",
      "3   3          -1  <html><head><div class=\"article-info\"><span cl...\n",
      "4   4          -1  <html><head><div class=\"article-info\"><span cl...\n",
      "(27643, 3)\n"
     ]
    }
   ],
   "source": [
    "import pandas as pd\n",
    "import numpy as np\n",
    "\n",
    "df = pd.read_csv(\"train.csv\", engine='python', error_bad_lines=False)\n",
    "print(df.head(5))\n",
    "print(df.shape)"
   ]
  },
  {
   "cell_type": "markdown",
   "metadata": {},
   "source": [
    "The raw dataset is composed of 3 coloumns only, which are the index, popularity(-1 or 1), and the content written in html document. Trainning set here has total 27643 news ,and in the following sections we are going to extract useful informations from the content of news then make popularity prediction on testing set."
   ]
  },
  {
   "cell_type": "markdown",
   "metadata": {},
   "source": [
    "# Add Feature"
   ]
  },
  {
   "cell_type": "markdown",
   "metadata": {},
   "source": [
    "Here is the feature extraction part, we use BeutifulSoup package in python for analysis of the html document. For each new, we extract several features and we list them below. <br>\n",
    "- Page content: The whole content of a new.\n",
    "- image: Number of images in a new.\n",
    "- link: Number of links in a new.\n",
    "- video: Number of video in a new.\n",
    "- sport: Number of the words related to sport mentioned in a new. \n",
    "- date: The day of the week. \n",
    "- title_length: Number of words in title.\n",
    "- text_length: Number of words in the content.\n",
    "- hour: The time in hour when the new released.\n",
    "- month: The month when the new released.\n",
    "- topic: Keyword list in the end of the news.\n",
    "- author: Author name of the new. \n",
    "- weekend: A binary variable. When the new is released in Saturday or Sunday, \"weekend\" = 1, or, \"weekend\" = -1.\n",
    "\n",
    "What should be emphasized here is that we put the word in \"topic\" in front of the page content for 3 times, which further strengthen the importance of the topic.\n",
    "Here, we only list the features we are going to use in this competition, the way how we deal with these features will be shown in later section."
   ]
  },
  {
   "cell_type": "code",
   "execution_count": 5,
   "metadata": {},
   "outputs": [],
   "source": [
    "from bs4 import BeautifulSoup\n",
    "\n",
    "X = df[\"Page content\"]\n",
    "y = df[\"Popularity\"]\n",
    "\n",
    "author=[]\n",
    "for text in X:\n",
    "    soup = BeautifulSoup(text, 'html.parser')\n",
    "    a_tags = soup.a\n",
    "    a_tags = str(a_tags)\n",
    "    x = a_tags.split(\"/\")\n",
    "    if(len(x)>=3):\n",
    "        author.append(x[2])\n",
    "    else:\n",
    "        author.append(\"N\")\n",
    "\n",
    "topic=[]\n",
    "for text in X:\n",
    "    soup = BeautifulSoup(text, 'html.parser')\n",
    "    foot = soup.footer\n",
    "    a_tags = foot.find_all('a')\n",
    "    temp=\"\"\n",
    "    for a in a_tags:\n",
    "        a.string = a.string.replace(\" \", \"\")\n",
    "        temp = temp + ' ' + a.string\n",
    "    temp = temp.strip()\n",
    "    topic.append(temp)\n",
    "    text = temp + ' ' + temp + ' ' + temp + ' ' + text\n",
    "    \n",
    "image = []\n",
    "for text in X:\n",
    "    image.append(text.count(\"img\"))\n",
    "\n",
    "link = []\n",
    "for text in X:\n",
    "    link.append(text.count(\"href\"))\n",
    "\n",
    "video = []\n",
    "for text in X:\n",
    "    video.append(text.count(\"iframe\"))\n",
    "\n",
    "sport = []\n",
    "for text in X:\n",
    "    sport.append(text.count(\"Entertainment\"))\n",
    "\n",
    "date = []\n",
    "weekend = []\n",
    "for text in X:\n",
    "    a = text.find(\"datetime\")\n",
    "    date.append(text[a+10:a+13])\n",
    "    if (text[a+10:a+13] == 'Sun' or text[a+10:a+13] == 'Sat'):\n",
    "        weekend.append(1)\n",
    "    else:\n",
    "        weekend.append(-1)\n",
    "\n",
    "\n",
    "title_length = []\n",
    "text_length = []\n",
    "hour = []\n",
    "month = []\n",
    "for text in X:\n",
    "    soup = BeautifulSoup(text, 'html.parser')\n",
    "    title_length.append(len(soup.h1.string))\n",
    "    text_length.append(len(soup.get_text()))\n",
    "    s = soup.time.string\n",
    "    month.append(s[5:7])\n",
    "    hour.append(s[11:13])\n",
    "\n",
    "df['image'] = image\n",
    "df['link'] = link\n",
    "df['video'] = video\n",
    "df['sport'] = sport\n",
    "df['date'] = date\n",
    "df['title_length'] = title_length\n",
    "df['text_length'] = text_length\n",
    "df['hour'] = hour\n",
    "df['month'] = month\n",
    "df['topic'] = topic\n",
    "df['author'] = author\n",
    "df['weekend'] = weekend\n",
    "\n",
    "\n",
    "X = df[[\"Page content\", 'image', 'link', 'video', 'sport', 'date', 'title_length', 'text_length', 'hour', 'month', 'topic', 'author', 'weekend']]"
   ]
  },
  {
   "cell_type": "markdown",
   "metadata": {},
   "source": [
    "# Train Test Spilt"
   ]
  },
  {
   "cell_type": "markdown",
   "metadata": {},
   "source": [
    "The work here is simple: split 20 percent of training set for validation set."
   ]
  },
  {
   "cell_type": "code",
   "execution_count": 6,
   "metadata": {},
   "outputs": [
    {
     "name": "stdout",
     "output_type": "stream",
     "text": [
      "(22114, 13)\n",
      "<class 'pandas.core.frame.DataFrame'>\n"
     ]
    }
   ],
   "source": [
    "from sklearn.model_selection import train_test_split\n",
    "\n",
    "X_train, X_test, y_train, y_test = train_test_split(X, y, test_size=0.2, random_state=77)\n",
    "print(X_train.shape)\n",
    "print(type(X_train))"
   ]
  },
  {
   "cell_type": "markdown",
   "metadata": {},
   "source": [
    "# Training"
   ]
  },
  {
   "cell_type": "markdown",
   "metadata": {},
   "source": [
    "This section is the training part. The first thing should be noted here is that we use a coloumn transformer from scikit-learn to generate the input which is enable to feed in the model. Coloumn transformer can deal with different type of input with different processor. For example, in our implementation, processor such as TF-IDF vectorizer, standard scaler, count vectorizer, one hot encoder, and normalizer are being used. We apply different processors on different features in order to maximize the information and at the same time minimize the size of input features.\n",
    "\n",
    "- For the feature \"Content\", which is the most complicated one among all features, we use TF-IDF method. It can consider both the number of times a word appears in a document and the number of documents in the corpus that contain the word. With TF-IDF vectorizer, the work like stop word are no need to apply. The parameter \"max_features\" is set to 50000, which we find no more improvement for bigger max_features, and the parameter min_df is set to 3 so that we can avoid detecting some uncommon words.\n",
    "- For the feature \"topic\", because that there are few number of words, we use \"Bag of words\" to represent the text data.\n",
    "- For the featre used for counting the appearance number, we directly use standard scaler.\n",
    "- For the feature indicates the value of time, we use one hot encoder.\n",
    "\n",
    "The model we use here at final is logistic regression since it has the best performance on the public set on Kaggle.\n"
   ]
  },
  {
   "cell_type": "code",
   "execution_count": 12,
   "metadata": {},
   "outputs": [
    {
     "data": {
      "text/plain": [
       "0.552722011213601"
      ]
     },
     "execution_count": 12,
     "metadata": {},
     "output_type": "execute_result"
    }
   ],
   "source": [
    "from sklearn.compose import ColumnTransformer\n",
    "from sklearn.feature_extraction.text import TfidfVectorizer\n",
    "from sklearn.linear_model import LogisticRegression\n",
    "from sklearn.pipeline import Pipeline\n",
    "from sklearn.metrics import accuracy_score\n",
    "from sklearn.preprocessing import StandardScaler\n",
    "from sklearn.preprocessing import OneHotEncoder\n",
    "from sklearn.preprocessing import MultiLabelBinarizer\n",
    "from sklearn.feature_extraction.text import CountVectorizer\n",
    "from sklearn.ensemble import RandomForestClassifier\n",
    "from sklearn.feature_extraction.text import HashingVectorizer\n",
    "from sklearn.decomposition import LatentDirichletAllocation\n",
    "from sklearn.decomposition import TruncatedSVD\n",
    "from sklearn.preprocessing import Normalizer\n",
    "from sklearn.decomposition import PCA\n",
    "\n",
    "def dummy(doc):\n",
    "    return doc\n",
    "\n",
    "processor = ColumnTransformer(\n",
    "    [\n",
    "        #('text', CountVectorizer(tokenizer=tokenizer_stem_nostop, preprocessor=preprocessor ,max_features=50000, min_df=3), 'Page content'),\n",
    "        ('Content', TfidfVectorizer(max_features=50000, min_df=3), 'Page content'),\n",
    "        ('image', StandardScaler(), ['image']),\n",
    "        ('link', StandardScaler(), ['link']),\n",
    "        ('video', StandardScaler(), ['video']),\n",
    "        ('sport', StandardScaler(), ['sport']),\n",
    "        ('date', OneHotEncoder(handle_unknown = \"ignore\"), ['date']),\n",
    "        ('title_length', StandardScaler(), ['title_length']),\n",
    "        ('text_length', StandardScaler(), ['text_length']),\n",
    "        ('month', OneHotEncoder(handle_unknown = \"ignore\"), ['month']),\n",
    "        ('hour', OneHotEncoder(handle_unknown = \"ignore\"), ['hour']),\n",
    "        ('topic', CountVectorizer(tokenizer=dummy, preprocessor=dummy, max_features=2000, min_df=15), 'topic'),\n",
    "        ('author', OneHotEncoder(handle_unknown = \"ignore\"), ['author']),\n",
    "        ('weekend', Normalizer(), ['weekend']),\n",
    "    ],\n",
    ")\n",
    "\n",
    "pipe = Pipeline(\n",
    "    steps=[\n",
    "        ('processor', processor),\n",
    "        ('classifier', LogisticRegression(solver = \"liblinear\", max_iter=1000)),\n",
    "    ],\n",
    ")\n",
    "\n",
    "pipe.fit(X_train, y_train)\n",
    "y_pred = pipe.predict(X_test)\n",
    "y_pred_proba = pipe.predict_proba(X_test)\n",
    "accuracy_score(y_test, y_pred)"
   ]
  },
  {
   "cell_type": "markdown",
   "metadata": {},
   "source": [
    "# ROC curve"
   ]
  },
  {
   "cell_type": "markdown",
   "metadata": {},
   "source": [
    "Here, we use the validation set we split out to plot the ROC curve."
   ]
  },
  {
   "cell_type": "code",
   "execution_count": 14,
   "metadata": {},
   "outputs": [
    {
     "data": {
      "image/png": "[encoded data removed]",
      "text/plain": [
       "<Figure size 600x600 with 1 Axes>"
      ]
     },
     "metadata": {},
     "output_type": "display_data"
    },
    {
     "name": "stdout",
     "output_type": "stream",
     "text": [
      "AUC: 0.5757\n"
     ]
    }
   ],
   "source": [
    "from sklearn import metrics\n",
    "import matplotlib.pyplot as plt\n",
    "fig, ax = plt.subplots(figsize=(6,6))\n",
    "fpr, tpr, thresholds = metrics.roc_curve(y_test, y_pred_proba[:, 1], pos_label=1)\n",
    "plt.plot(fpr, tpr, lw=2, label='Logistic regression')\n",
    "plt.plot([0, 1],\n",
    "         [0, 1],\n",
    "         linestyle='--',\n",
    "         color='gray',\n",
    "         label='Random guessing')\n",
    "\n",
    "plt.plot([0, 0, 1],\n",
    "         [0, 1, 1],\n",
    "         linestyle='-.',\n",
    "         alpha=0.5,\n",
    "         color='red',\n",
    "         label='Perfect')\n",
    "\n",
    "plt.xlim([-0.05, 1.05])\n",
    "plt.ylim([-0.05, 1.05])\n",
    "plt.xlabel('FPR')\n",
    "plt.ylabel('TPR')\n",
    "plt.title('ROC Curve')\n",
    "plt.legend(loc=\"lower right\")\n",
    "plt.tight_layout()\n",
    "plt.legend(loc=4, prop={'size': 18})\n",
    "for item in ([ax.title, ax.xaxis.label, ax.yaxis.label] +\n",
    "             ax.get_xticklabels() + ax.get_yticklabels()):\n",
    "    item.set_fontsize(20)\n",
    "for item in (ax.get_xticklabels() + ax.get_yticklabels()):\n",
    "    item.set_fontsize(15)\n",
    "plt.show()\n",
    "\n",
    "print('AUC: %.4f' % metrics.auc(fpr, tpr))"
   ]
  },
  {
   "cell_type": "markdown",
   "metadata": {},
   "source": [
    "# For Kaggle Test Data"
   ]
  },
  {
   "cell_type": "markdown",
   "metadata": {},
   "source": [
    "In the final part, we use the model trained by training set after split to make prediction on the testing set of Kaggle and the result is saved in y_pred.csv"
   ]
  },
  {
   "cell_type": "code",
   "execution_count": 17,
   "metadata": {},
   "outputs": [
    {
     "name": "stdout",
     "output_type": "stream",
     "text": [
      "(11847, 14)\n"
     ]
    }
   ],
   "source": [
    "df_test = pd.read_csv(\"test.csv\", engine='python', error_bad_lines=False)\n",
    "\n",
    "author=[]\n",
    "for text in df_test['Page content']:\n",
    "    soup = BeautifulSoup(text, 'html.parser')\n",
    "    a_tags = soup.a\n",
    "    a_tags = str(a_tags)\n",
    "    x = a_tags.split(\"/\")\n",
    "    if(len(x)>=3):\n",
    "        author.append(x[2])\n",
    "    else:\n",
    "        author.append(\"N\")\n",
    "\n",
    "topic=[]\n",
    "for text in df_test['Page content']:\n",
    "    soup = BeautifulSoup(text, 'html.parser')\n",
    "    foot = soup.footer\n",
    "    a_tags = foot.find_all('a')\n",
    "    temp=\"\"\n",
    "    for a in a_tags:\n",
    "        a.string = a.string.replace(\" \", \"\")\n",
    "        temp = temp + ' ' + a.string\n",
    "    temp = temp.strip()\n",
    "    topic.append(temp)\n",
    "    text = temp + ' ' + temp + ' ' + temp + ' ' + text\n",
    "\n",
    "image = []\n",
    "for text in df_test['Page content']:\n",
    "    image.append(text.count(\"img\"))\n",
    "\n",
    "link = []\n",
    "for text in df_test['Page content']:\n",
    "    link.append(text.count(\"href\"))\n",
    "\n",
    "video = []\n",
    "for text in df_test['Page content']:\n",
    "    video.append(text.count(\"iframe\"))\n",
    "\n",
    "sport = []\n",
    "for text in df_test['Page content']:\n",
    "    sport.append(text.count(\"sport\"))\n",
    "\n",
    "date = []\n",
    "weekend = []\n",
    "for text in df_test['Page content']:\n",
    "    a = text.find(\"datetime\")\n",
    "    date.append(text[a+10:a+13])\n",
    "    if (text[a+10:a+13] == 'Sun' or text[a+10:a+13] == 'Sat'):\n",
    "        weekend.append(1)\n",
    "    else:\n",
    "        weekend.append(-1)\n",
    "\n",
    "title_length = []\n",
    "text_length = []\n",
    "hour = []\n",
    "month = []\n",
    "for text in df_test['Page content']:\n",
    "    soup = BeautifulSoup(text, 'html.parser')\n",
    "    title_length.append(len(soup.h1.string))\n",
    "    text_length.append(len(soup.get_text()))\n",
    "    s = soup.time.string\n",
    "    if (s):\n",
    "        month.append(s[5:7])\n",
    "        hour.append(s[11:13])\n",
    "    else:\n",
    "        month.append(\"N\")\n",
    "        hour.append(\"N\")\n",
    "df_test['image'] = image\n",
    "df_test['link'] = link\n",
    "df_test['video'] = video\n",
    "df_test['sport'] = sport\n",
    "df_test['date'] = date\n",
    "df_test['title_length'] = title_length\n",
    "df_test['text_length'] = text_length\n",
    "df_test['hour'] = hour\n",
    "df_test['month'] = month\n",
    "df_test['topic'] = topic\n",
    "df_test['author'] = author\n",
    "df_test['weekend'] = weekend\n",
    "\n",
    "\n",
    "#print(date)\n",
    "df_test.drop(['Id'], axis=1)\n",
    "print(df_test.shape)\n",
    "pred = pipe.predict_proba(df_test[[\"Page content\", 'image', 'link', 'video', 'sport', 'date', 'title_length', 'text_length', 'hour', 'month', 'topic','author', 'weekend']])"
   ]
  },
  {
   "cell_type": "code",
   "execution_count": 18,
   "metadata": {},
   "outputs": [
    {
     "name": "stdout",
     "output_type": "stream",
     "text": [
      "[[0.50540011 0.49459989]\n",
      " [0.3831488  0.6168512 ]\n",
      " [0.63305858 0.36694142]\n",
      " ...\n",
      " [0.48699997 0.51300003]\n",
      " [0.60117255 0.39882745]\n",
      " [0.59902152 0.40097848]]\n"
     ]
    }
   ],
   "source": [
    "print(pred)\n",
    "pd.DataFrame(pred[:,1], columns=['Popularity']).to_csv('y_pred.csv')"
   ]
  }
 ],
 "metadata": {
  "kernelspec": {
   "display_name": "Python 3.8.13 ('DL': conda)",
   "language": "python",
   "name": "python3"
  },
  "language_info": {
   "codemirror_mode": {
    "name": "ipython",
    "version": 3
   },
   "file_extension": ".py",
   "mimetype": "text/x-python",
   "name": "python",
   "nbconvert_exporter": "python",
   "pygments_lexer": "ipython3",
   "version": "3.8.13"
  },
  "orig_nbformat": 4,
  "vscode": {
   "interpreter": {
    "hash": "f701a760d3e97a5a2a79280c2a74bfced77c694ca86ea0761b321171de4d711c"
   }
  }
 },
 "nbformat": 4,
 "nbformat_minor": 2
}
