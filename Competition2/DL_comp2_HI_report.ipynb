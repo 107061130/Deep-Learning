{
 "cells": [
  {
   "cell_type": "code",
   "execution_count": 1,
   "metadata": {},
   "outputs": [],
   "source": [
    "import numpy as np\n",
    "from tqdm import tqdm\n",
    "import os\n",
    "import glob\n",
    "import re\n",
    "import numpy as np\n",
    "import cv2\n",
    "import matplotlib.pyplot as plt\n",
    "import matplotlib.patches as patches\n",
    "import xml.etree.ElementTree as ET\n",
    "import imgaug as ia\n",
    "from imgaug import augmenters as iaa\n",
    "from tqdm import tqdm"
   ]
  },
  {
   "cell_type": "code",
   "execution_count": 3,
   "metadata": {},
   "outputs": [
    {
     "name": "stdout",
     "output_type": "stream",
     "text": [
      "Tensorflow version : 2.4.1\n",
      "GPU : [PhysicalDevice(name='/physical_device:GPU:0', device_type='GPU'), PhysicalDevice(name='/physical_device:GPU:1', device_type='GPU'), PhysicalDevice(name='/physical_device:GPU:2', device_type='GPU'), PhysicalDevice(name='/physical_device:GPU:3', device_type='GPU'), PhysicalDevice(name='/physical_device:GPU:4', device_type='GPU')]\n",
      "5 Physical GPUs, 1 Logical GPUs\n"
     ]
    }
   ],
   "source": [
    "import tensorflow as tf\n",
    "print('Tensorflow version : {}'.format(tf.__version__))\n",
    "print('GPU : {}'.format(tf.config.list_physical_devices('GPU')))\n",
    "from tensorflow import keras\n",
    "import tensorflow.keras.backend as K\n",
    "from tensorflow.keras.layers import Concatenate, concatenate, Dropout, LeakyReLU, Reshape, Activation, Conv2D, Input, MaxPooling2D, BatchNormalization, Flatten, Dense, Lambda\n",
    "gpus = tf.config.experimental.list_physical_devices('GPU')\n",
    "if gpus:\n",
    "    try:\n",
    "        # Currently, memory growth needs to be the same across GPUs\n",
    "        for gpu in gpus:\n",
    "            tf.config.experimental.set_memory_growth(gpu, True)\n",
    "        # Select GPU number 1\n",
    "        tf.config.experimental.set_visible_devices(gpus[3], 'GPU')\n",
    "        logical_gpus = tf.config.experimental.list_logical_devices('GPU')\n",
    "        print(len(gpus), \"Physical GPUs,\", len(logical_gpus), \"Logical GPUs\")\n",
    "    except RuntimeError as e:\n",
    "        # Memory growth must be set before GPUs have been initialized\n",
    "        print(e)"
   ]
  },
  {
   "cell_type": "markdown",
   "metadata": {},
   "source": [
    "# Parameters\n",
    "Here are some parameters that we use in the model and others.\n",
    "* images size : 416x416\n",
    "* GRID size : 13x13 which is image size divide by 12\n",
    "* score threshold : 0.5\n",
    "* IOU threshold : 0.45\n",
    "* Anchors is calculated by K-means clustering algorthem and follow YOLOv2 paper choose K = 5"
   ]
  },
  {
   "cell_type": "code",
   "execution_count": 18,
   "metadata": {},
   "outputs": [],
   "source": [
    "# Parameters\n",
    "\n",
    "LABELS           = (\"aeroplane\", \"bicycle\", \"bird\", \"boat\", \"bottle\", \n",
    "                 \"bus\", \"car\", \"cat\", \"chair\", \"cow\", \"diningtable\", \n",
    "                 \"dog\", \"horse\", \"motorbike\", \"person\", \"pottedplant\", \n",
    "                 \"sheep\", \"sofa\", \"train\",\"tvmonitor\")\n",
    "IMAGE_H, IMAGE_W = 416, 416\n",
    "GRID_H,  GRID_W  = 13, 13 # GRID size = IMAGE size / 32\n",
    "BOX              = 5 \n",
    "CLASS            = len(LABELS)\n",
    "SCORE_THRESHOLD  = 0.5\n",
    "IOU_THRESHOLD    = 0.45\n",
    "ANCHORS          = [0.57273, 0.677385, 1.87446, 2.06253, 3.33843, 5.47434, 7.88282, 3.52778, 9.77052, 9.16828]\n",
    "\n",
    "TRAIN_BATCH_SIZE = 32\n",
    "VAL_BATCH_SIZE   = 32\n",
    "EPOCHS           = 200\n",
    "\n",
    "LAMBDA_NOOBJECT  = 1\n",
    "LAMBDA_OBJECT    = 5\n",
    "LAMBDA_CLASS     = 1\n",
    "LAMBDA_COORD     = 1\n",
    "\n",
    "MAX_OBJECTS_PER_IMAGE = 30"
   ]
  },
  {
   "cell_type": "markdown",
   "metadata": {},
   "source": [
    "# Train and Validation directory\n",
    "* we split the last 10% photos for validation data."
   ]
  },
  {
   "cell_type": "code",
   "execution_count": 4,
   "metadata": {},
   "outputs": [],
   "source": [
    "# Train and validation directory\n",
    "\n",
    "train_image_folder = 'VOCdevkit_train/VOC2007/Augement_image/'\n",
    "train_annot_folder = 'VOCdevkit_train/VOC2007/Augmentation.txt'\n",
    "val_image_folder = 'VOCdevkit_valid/VOC2007/JPEGImages/'\n",
    "val_annot_folder = 'VOCdevkit_valid/VOC2007/pascal_voc_validation_data.txt'"
   ]
  },
  {
   "cell_type": "markdown",
   "metadata": {},
   "source": [
    "# SpaceToDepth \n",
    "* This is a function that will be used in skip-connection."
   ]
  },
  {
   "cell_type": "code",
   "execution_count": 20,
   "metadata": {},
   "outputs": [],
   "source": [
    "# Custom Keras layer\n",
    "\n",
    "class SpaceToDepth(keras.layers.Layer):\n",
    "\n",
    "    def __init__(self, block_size, **kwargs):\n",
    "        self.block_size = block_size\n",
    "        super(SpaceToDepth, self).__init__(**kwargs)\n",
    "\n",
    "    def call(self, inputs):\n",
    "        x = inputs\n",
    "        batch, height, width, depth = K.int_shape(x)\n",
    "        batch = -1\n",
    "        reduced_height = height // self.block_size\n",
    "        reduced_width = width // self.block_size\n",
    "        y = K.reshape(x, (batch, reduced_height, self.block_size,\n",
    "                             reduced_width, self.block_size, depth))\n",
    "        z = K.permute_dimensions(y, (0, 1, 3, 2, 4, 5))\n",
    "        t = K.reshape(z, (batch, reduced_height, reduced_width, depth * self.block_size **2))\n",
    "        return t\n",
    "\n",
    "    def compute_output_shape(self, input_shape):\n",
    "        shape =  (input_shape[0], input_shape[1] // self.block_size, input_shape[2] // self.block_size,\n",
    "                  input_shape[3] * self.block_size **2)\n",
    "        return tf.TensorShape(shape)"
   ]
  },
  {
   "cell_type": "markdown",
   "metadata": {},
   "source": [
    "# YOLOv2 model\n",
    "### Adjustments for a better YOLO\n",
    "* Batch normalization\n",
    "\n",
    "* Classifying on high resolution inputs\n",
    "  1. Firstly train the classifier on 224x224 resolution on ImageNet.\n",
    "  2. Secondly fine tune the classifier on 448x448 resolution for 10 epochs, this make the network’s filters adjust to higher resolution inputs.\n",
    "  3. Then fine tune the resulting network on detection.\n",
    "\n",
    "* Convolutional layers with anchor boxes\n",
    "  1. Most of objects in the training dataset have a vary of sizes, which makes learning process hard.\n",
    "  2.  Anchor boxes are a set of predefined box shapes selected to match ground truth bounding boxes, so we only need to predicts size of Anchor boxes\n",
    "\n",
    "*\n",
    "* Remove the fully connected layer responsible for predicting bounding boxes and replace it with anchor boxes prediction\n",
    "\n",
    "* Making YOLO faster with Darknet-19\n",
    "\n",
    "### Architecture\n",
    "![](https://i.imgur.com/dDBKj0S.png)"
   ]
  },
  {
   "cell_type": "code",
   "execution_count": null,
   "metadata": {},
   "outputs": [],
   "source": [
    "input_image = tf.keras.layers.Input((IMAGE_H, IMAGE_W, 3), dtype='float32')\n",
    "\n",
    "# Layer 1\n",
    "x = Conv2D(32, (3,3), strides=(1,1), padding='same', name='conv_1', use_bias=False)(input_image)\n",
    "x = BatchNormalization(name='norm_1')(x)\n",
    "x = LeakyReLU(alpha=0.1)(x)\n",
    "x = MaxPooling2D(pool_size=(2, 2))(x)\n",
    "\n",
    "# Layer 2\n",
    "x = Conv2D(64, (3,3), strides=(1,1), padding='same', name='conv_2', use_bias=False)(x)\n",
    "x = BatchNormalization(name='norm_2')(x)\n",
    "x = LeakyReLU(alpha=0.1)(x)\n",
    "x = MaxPooling2D(pool_size=(2, 2))(x)\n",
    "\n",
    "# Layer 3\n",
    "x = Conv2D(128, (3,3), strides=(1,1), padding='same', name='conv_3', use_bias=False)(x)\n",
    "x = BatchNormalization(name='norm_3')(x)\n",
    "x = LeakyReLU(alpha=0.1)(x)\n",
    "\n",
    "# Layer 4\n",
    "x = Conv2D(64, (1,1), strides=(1,1), padding='same', name='conv_4', use_bias=False)(x)\n",
    "x = BatchNormalization(name='norm_4')(x)\n",
    "x = LeakyReLU(alpha=0.1)(x)\n",
    "\n",
    "# Layer 5\n",
    "x = Conv2D(128, (3,3), strides=(1,1), padding='same', name='conv_5', use_bias=False)(x)\n",
    "x = BatchNormalization(name='norm_5')(x)\n",
    "x = LeakyReLU(alpha=0.1)(x)\n",
    "x = MaxPooling2D(pool_size=(2, 2))(x)\n",
    "\n",
    "# Layer 6\n",
    "x = Conv2D(256, (3,3), strides=(1,1), padding='same', name='conv_6', use_bias=False)(x)\n",
    "x = BatchNormalization(name='norm_6')(x)\n",
    "x = LeakyReLU(alpha=0.1)(x)\n",
    "\n",
    "# Layer 7\n",
    "x = Conv2D(128, (1,1), strides=(1,1), padding='same', name='conv_7', use_bias=False)(x)\n",
    "x = BatchNormalization(name='norm_7')(x)\n",
    "x = LeakyReLU(alpha=0.1)(x)\n",
    "\n",
    "# Layer 8\n",
    "x = Conv2D(256, (3,3), strides=(1,1), padding='same', name='conv_8', use_bias=False)(x)\n",
    "x = BatchNormalization(name='norm_8')(x)\n",
    "x = LeakyReLU(alpha=0.1)(x)\n",
    "x = MaxPooling2D(pool_size=(2, 2))(x)\n",
    "\n",
    "# Layer 9\n",
    "x = Conv2D(512, (3,3), strides=(1,1), padding='same', name='conv_9', use_bias=False)(x)\n",
    "x = BatchNormalization(name='norm_9')(x)\n",
    "x = LeakyReLU(alpha=0.1)(x)\n",
    "\n",
    "# Layer 10\n",
    "x = Conv2D(256, (1,1), strides=(1,1), padding='same', name='conv_10', use_bias=False)(x)\n",
    "x = BatchNormalization(name='norm_10')(x)\n",
    "x = LeakyReLU(alpha=0.1)(x)\n",
    "\n",
    "# Layer 11\n",
    "x = Conv2D(512, (3,3), strides=(1,1), padding='same', name='conv_11', use_bias=False)(x)\n",
    "x = BatchNormalization(name='norm_11')(x)\n",
    "x = LeakyReLU(alpha=0.1)(x)\n",
    "\n",
    "# Layer 12\n",
    "x = Conv2D(256, (1,1), strides=(1,1), padding='same', name='conv_12', use_bias=False)(x)\n",
    "x = BatchNormalization(name='norm_12')(x)\n",
    "x = LeakyReLU(alpha=0.1)(x)\n",
    "\n",
    "# Layer 13\n",
    "x = Conv2D(512, (3,3), strides=(1,1), padding='same', name='conv_13', use_bias=False)(x)\n",
    "x = BatchNormalization(name='norm_13')(x)\n",
    "x = LeakyReLU(alpha=0.1)(x)\n",
    "\n",
    "skip_connection = x\n",
    "\n",
    "x = MaxPooling2D(pool_size=(2, 2))(x)\n",
    "\n",
    "# Layer 14\n",
    "x = Conv2D(1024, (3,3), strides=(1,1), padding='same', name='conv_14', use_bias=False)(x)\n",
    "x = BatchNormalization(name='norm_14')(x)\n",
    "x = LeakyReLU(alpha=0.1)(x)\n",
    "\n",
    "# Layer 15\n",
    "x = Conv2D(512, (1,1), strides=(1,1), padding='same', name='conv_15', use_bias=False)(x)\n",
    "x = BatchNormalization(name='norm_15')(x)\n",
    "x = LeakyReLU(alpha=0.1)(x)\n",
    "\n",
    "# Layer 16\n",
    "x = Conv2D(1024, (3,3), strides=(1,1), padding='same', name='conv_16', use_bias=False)(x)\n",
    "x = BatchNormalization(name='norm_16')(x)\n",
    "x = LeakyReLU(alpha=0.1)(x)\n",
    "\n",
    "# Layer 17\n",
    "x = Conv2D(512, (1,1), strides=(1,1), padding='same', name='conv_17', use_bias=False)(x)\n",
    "x = BatchNormalization(name='norm_17')(x)\n",
    "x = LeakyReLU(alpha=0.1)(x)\n",
    "\n",
    "# Layer 18\n",
    "x = Conv2D(1024, (3,3), strides=(1,1), padding='same', name='conv_18', use_bias=False)(x)\n",
    "x = BatchNormalization(name='norm_18')(x)\n",
    "x = LeakyReLU(alpha=0.1)(x)\n",
    "\n",
    "# Layer 19\n",
    "x = Conv2D(1024, (3,3), strides=(1,1), padding='same', name='conv_19', use_bias=False)(x)\n",
    "x = BatchNormalization(name='norm_19')(x)\n",
    "x = LeakyReLU(alpha=0.1)(x)\n",
    "\n",
    "# Layer 20\n",
    "x = Conv2D(1024, (3,3), strides=(1,1), padding='same', name='conv_20', use_bias=False)(x)\n",
    "x = BatchNormalization(name='norm_20')(x)\n",
    "x = LeakyReLU(alpha=0.1)(x)\n",
    "\n",
    "\n",
    "# Layer 21\n",
    "skip_connection = Conv2D(64, (1,1), strides=(1,1), padding='same', name='conv_21', use_bias=False)(skip_connection)\n",
    "skip_connection = BatchNormalization(name='norm_21')(skip_connection)\n",
    "skip_connection = LeakyReLU(alpha=0.1)(skip_connection)\n",
    "\n",
    "skip_connection = SpaceToDepth(block_size=2)(skip_connection)\n",
    "\n",
    "x = concatenate([skip_connection, x])\n",
    "\n",
    "# Layer 22\n",
    "x = Conv2D(1024, (3,3), strides=(1,1), padding='same', name='conv_22', use_bias=False)(x)\n",
    "x = BatchNormalization(name='norm_22')(x)\n",
    "x = LeakyReLU(alpha=0.1)(x)\n",
    "x = Dropout(0.3)(x) # add dropout\n",
    "\n",
    "# Layer 23\n",
    "x = Conv2D(BOX * (4 + 1 + CLASS), (1,1), strides=(1,1), padding='same', name='conv_23')(x)\n",
    "output = Reshape((GRID_W, GRID_H, BOX, 4 + 1 + CLASS))(x)\n",
    "\n",
    "model = keras.models.Model(input_image, output)"
   ]
  },
  {
   "cell_type": "markdown",
   "metadata": {},
   "source": [
    "# Function of Loading Weights"
   ]
  },
  {
   "cell_type": "code",
   "execution_count": 7,
   "metadata": {},
   "outputs": [],
   "source": [
    "class WeightReader:\n",
    "    def __init__(self, weight_file):\n",
    "        self.offset = 4\n",
    "        self.all_weights = np.fromfile(weight_file, dtype='float32')\n",
    "        \n",
    "    def read_bytes(self, size):\n",
    "        self.offset = self.offset + size\n",
    "        return self.all_weights[self.offset-size:self.offset]\n",
    "    \n",
    "    def reset(self):\n",
    "        self.offset = 4"
   ]
  },
  {
   "cell_type": "markdown",
   "metadata": {},
   "source": [
    "# Load darknet19 weight\n",
    "* Initially, our yolov2 model can only get map 0.9.\n",
    "* We load the Darknet pretrain weights for image classification on IMAGENET, and yolv2 can get good performance\n",
    "\n",
    "![](https://i.imgur.com/WQcQ1A7.png)"
   ]
  },
  {
   "cell_type": "code",
   "execution_count": 8,
   "metadata": {},
   "outputs": [],
   "source": [
    "weight_reader = WeightReader('darknet19.weights')"
   ]
  },
  {
   "cell_type": "code",
   "execution_count": 9,
   "metadata": {},
   "outputs": [],
   "source": [
    "weight_reader.reset()\n",
    "nb_conv = 18\n",
    "\n",
    "for i in range(1, nb_conv+1):\n",
    "    conv_layer = model.get_layer('conv_' + str(i))\n",
    "    conv_layer.trainable = True\n",
    "    #print(i)\n",
    "    #print(len(conv_layer.get_weights()))\n",
    "    \n",
    "    if i < nb_conv:\n",
    "        norm_layer = model.get_layer('norm_' + str(i))\n",
    "        norm_layer.trainable = True\n",
    "        \n",
    "        size = np.prod(norm_layer.get_weights()[0].shape)\n",
    "\n",
    "        beta  = weight_reader.read_bytes(size)\n",
    "        gamma = weight_reader.read_bytes(size)\n",
    "        mean  = weight_reader.read_bytes(size)\n",
    "        var   = weight_reader.read_bytes(size)\n",
    "\n",
    "        weights = norm_layer.set_weights([gamma, beta, mean, var])       \n",
    "        \n",
    "    if len(conv_layer.get_weights()) > 1:\n",
    "        bias   = weight_reader.read_bytes(np.prod(conv_layer.get_weights()[1].shape))\n",
    "        kernel = weight_reader.read_bytes(np.prod(conv_layer.get_weights()[0].shape))\n",
    "        kernel = kernel.reshape(list(reversed(conv_layer.get_weights()[0].shape)))\n",
    "        kernel = kernel.transpose([2,3,1,0])\n",
    "        conv_layer.set_weights([kernel, bias])\n",
    "    else:\n",
    "        kernel = weight_reader.read_bytes(np.prod(conv_layer.get_weights()[0].shape))\n",
    "        kernel = kernel.reshape(list(reversed(conv_layer.get_weights()[0].shape)))\n",
    "        kernel = kernel.transpose([2,3,1,0])\n",
    "        conv_layer.set_weights([kernel])"
   ]
  },
  {
   "cell_type": "code",
   "execution_count": 10,
   "metadata": {},
   "outputs": [],
   "source": [
    "layer   = model.layers[-2] # last convolutional layer\n",
    "layer.trainable = True\n",
    "\n",
    "\n",
    "weights = layer.get_weights()\n",
    "\n",
    "new_kernel = np.random.normal(size=weights[0].shape)/(GRID_H*GRID_W)\n",
    "new_bias   = np.random.normal(size=weights[1].shape)/(GRID_H*GRID_W)\n",
    "\n",
    "layer.set_weights([new_kernel, new_bias])"
   ]
  },
  {
   "cell_type": "markdown",
   "metadata": {},
   "source": [
    "# Generate Dataset"
   ]
  },
  {
   "cell_type": "code",
   "execution_count": null,
   "metadata": {},
   "outputs": [],
   "source": [
    "class DatasetGenerator:\n",
    "    def __init__(self, dataset='train'):\n",
    "        self.image_names = []\n",
    "        self.record_list = []\n",
    "        self.dataset = dataset\n",
    "        # filling the record_list\n",
    "        if dataset=='train':\n",
    "            input_file = open(train_txt, 'r')\n",
    "        else:\n",
    "            input_file = open(val_txt, 'r')\n",
    "\n",
    "\n",
    "        for line in input_file:\n",
    "            line = line.strip()\n",
    "            ss = line.split(' ')\n",
    "            self.image_names.append(ss[0])\n",
    "            \n",
    "            self.record_list.append([float(num) for num in ss[1:]])\n",
    "            # print(self.record_list)\n",
    "\n",
    "            if len(self.record_list[-1]) < MAX_OBJECTS_PER_IMAGE*5:\n",
    "                # if there are objects less than MAX_OBJECTS_PER_IMAGE, pad the list\n",
    "                self.record_list[-1] = self.record_list[-1] +\\\n",
    "                [0., 0., 0., 0., 0.]*\\\n",
    "                (MAX_OBJECTS_PER_IMAGE-len(self.record_list[-1])//5)\n",
    "                \n",
    "            elif len(self.record_list[-1]) > MAX_OBJECTS_PER_IMAGE*5:\n",
    "               # if there are objects more than MAX_OBJECTS_PER_IMAGE, crop the list\n",
    "                self.record_list[-1] = self.record_list[-1][:MAX_OBJECTS_PER_IMAGE*5]\n",
    "                \n",
    "            self.record_list[-1] = tf.reshape(self.record_list[-1], [30, 5])\n",
    "        self.record_list = np.asarray(self.record_list)\n",
    "        print(self.record_list.shape)\n",
    "\n",
    "    def _data_preprocess(self, image_name, raw_labels, object_num):\n",
    "        if self.dataset=='train':\n",
    "            image_file = tf.io.read_file(train_image_folder+image_name)\n",
    "        else:\n",
    "            image_file = tf.io.read_file(val_image_folder+image_name)\n",
    "\n",
    "        # print(IMAGE_DIR+image_name)\n",
    "        image = tf.io.decode_jpeg(image_file, channels=3)\n",
    "        image = tf.image.convert_image_dtype(image, tf.float32)\n",
    "\n",
    "        h = tf.shape(image)[0]\n",
    "        w = tf.shape(image)[1]\n",
    "\n",
    "        width_ratio  = IMAGE_W * 1.0 / tf.cast(w, tf.float32) \n",
    "        height_ratio = IMAGE_H * 1.0 / tf.cast(h, tf.float32) \n",
    "\n",
    "        image = tf.image.resize(image, size=[IMAGE_W, IMAGE_H])\n",
    "        \n",
    "        xmin = int(tf.math.round(raw_labels[:, 0]*width_ratio))\n",
    "        ymin = int(tf.math.round(raw_labels[:, 1]*height_ratio))\n",
    "        xmax = int(tf.math.round(raw_labels[:, 2]*width_ratio))\n",
    "        ymax = int(tf.math.round(raw_labels[:, 3]*height_ratio))\n",
    "\n",
    "        class_num = int(raw_labels[:, 4]+1)\n",
    "\n",
    "        labels = tf.stack([xmin, ymin, xmax, ymax, class_num], axis=1)\n",
    "\n",
    "        return image, labels\n",
    "\n",
    "    def generate(self):\n",
    "        dataset = tf.data.Dataset.from_tensor_slices((self.image_names, \n",
    "                                                      np.array(self.record_list), \n",
    "                                                      np.array(self.object_num_list)))\n",
    "        dataset = dataset.shuffle(100000)\n",
    "        dataset = dataset.map(self._data_preprocess, num_parallel_calls = tf.data.experimental.AUTOTUNE)\n",
    "        dataset = dataset.repeat()\n",
    "        dataset = dataset.batch(BATCH_SIZE, drop_remainder = True)\n",
    "        dataset = dataset.prefetch(10)\n",
    "\n",
    "        return dataset"
   ]
  },
  {
   "cell_type": "code",
   "execution_count": null,
   "metadata": {},
   "outputs": [],
   "source": [
    "train_dataset= DatasetGenerator.generate()\n",
    "val_dataset= DatasetGenerator.generate()"
   ]
  },
  {
   "cell_type": "markdown",
   "metadata": {},
   "source": [
    "# Fit YOLO format and Generate Anchors boxes"
   ]
  },
  {
   "cell_type": "code",
   "execution_count": 57,
   "metadata": {},
   "outputs": [],
   "source": [
    "def process_true_boxes(true_boxes, anchors, image_width, image_height):\n",
    "    \n",
    "    scale = IMAGE_W / GRID_W # scale = 32\n",
    "    \n",
    "    anchors_count = len(anchors) // 2\n",
    "    anchors = np.array(anchors)\n",
    "    anchors = anchors.reshape(len(anchors) // 2, 2)\n",
    "    \n",
    "    detector_mask = np.zeros((GRID_W, GRID_H, anchors_count, 1))\n",
    "    matching_true_boxes = np.zeros((GRID_W, GRID_H, anchors_count, 5))\n",
    "    \n",
    "    # convert true_boxes numpy array -> tensor\n",
    "    true_boxes = true_boxes.numpy()\n",
    "    # print(true_boxes)\n",
    "    \n",
    "    true_boxes_grid = np.zeros(true_boxes.shape)\n",
    "    \n",
    "    # convert bounding box coords and localize bounding box\n",
    "    for i, box in enumerate(true_boxes):\n",
    "        # convert box coords to x, y, w, h and convert to grids coord\n",
    "        w = (box[2] - box[0]) / scale\n",
    "        h = (box[3] - box[1]) / scale    \n",
    "        x = ((box[0] + box[2]) / 2) / scale\n",
    "        y = ((box[1] + box[3]) / 2) / scale\n",
    "        true_boxes_grid[i,...] = np.array([x, y, w, h, box[4]])\n",
    "        if w * h > 0: # box exists\n",
    "            # calculate iou between box and each anchors and find best anchors\n",
    "            best_iou = 0\n",
    "            best_anchor = 0\n",
    "            for i in range(anchors_count): \n",
    "                # iou (anchor and box are shifted to 0,0)\n",
    "                intersect = np.minimum(w, anchors[i,0]) * np.minimum(h, anchors[i,1])\n",
    "                union = (anchors[i,0] * anchors[i,1]) + (w * h) - intersect\n",
    "                iou = intersect / union\n",
    "                if iou > best_iou:\n",
    "                    best_iou = iou\n",
    "                    best_anchor = i\n",
    "            # localize box in detector_mask and matching true_boxes\n",
    "            if best_iou > 0:\n",
    "                # print('yes')\n",
    "                x_coord = np.floor(x).astype('int')\n",
    "                y_coord = np.floor(y).astype('int')\n",
    "                # print(x_coord, y_coord)\n",
    "                detector_mask[y_coord, x_coord, best_anchor] = 1\n",
    "                yolo_box = np.array([x, y, w, h, box[4]])\n",
    "                # print(yolo_box.shape)\n",
    "                matching_true_boxes[y_coord, x_coord, best_anchor,:] = yolo_box\n",
    "                # print(y_coord, x_coord, best_anchor)\n",
    "                # print(matching_true_boxes[y_coord, x_coord, best_anchor,:] )\n",
    "\n",
    "    return matching_true_boxes, detector_mask, true_boxes_grid"
   ]
  },
  {
   "cell_type": "markdown",
   "metadata": {},
   "source": [
    "# Grounf Truth Generator\n",
    "* Ground truth batch generator from a yolo dataset, ready to compare with YOLO prediction in loss function."
   ]
  },
  {
   "cell_type": "code",
   "execution_count": 58,
   "metadata": {},
   "outputs": [],
   "source": [
    "def ground_truth_generator(dataset):\n",
    "    for batch in dataset:\n",
    "        # imgs\n",
    "        imgs = batch[0]\n",
    "        \n",
    "        # true boxes\n",
    "        true_boxes = batch[1]\n",
    "        # print(true_boxes[0])\n",
    "        \n",
    "        # matching_true_boxes and detector_mask\n",
    "        batch_matching_true_boxes = []\n",
    "        batch_detector_mask = []\n",
    "        batch_true_boxes_grid = []\n",
    "        \n",
    "        for i in range(true_boxes.shape[0]):     \n",
    "            one_matching_true_boxes, one_detector_mask, true_boxes_grid = process_true_boxes(true_boxes[i],\n",
    "                                                                                           ANCHORS,\n",
    "                                                                                           IMAGE_W,\n",
    "                                                                                           IMAGE_H)\n",
    "            batch_matching_true_boxes.append(one_matching_true_boxes)\n",
    "            batch_detector_mask.append(one_detector_mask)\n",
    "            batch_true_boxes_grid.append(true_boxes_grid)\n",
    "                \n",
    "        detector_mask = tf.convert_to_tensor(np.array(batch_detector_mask), dtype='float32')\n",
    "        matching_true_boxes = tf.convert_to_tensor(np.array(batch_matching_true_boxes), dtype='float32')\n",
    "        true_boxes_grid = tf.convert_to_tensor(np.array(batch_true_boxes_grid), dtype='float32')\n",
    "        \n",
    "        # class one_hot\n",
    "        matching_classes = K.cast(matching_true_boxes[..., 4], 'int32') \n",
    "        # print(matching_classes)\n",
    "        class_one_hot = K.one_hot(matching_classes, CLASS + 1)[:,:,:,:,1:]\n",
    "        class_one_hot = tf.cast(class_one_hot, dtype='float32')\n",
    "        \n",
    "        batch = (imgs, detector_mask, matching_true_boxes, class_one_hot, true_boxes_grid)\n",
    "        yield batch"
   ]
  },
  {
   "cell_type": "code",
   "execution_count": 59,
   "metadata": {},
   "outputs": [],
   "source": [
    "# Ground true generator\n",
    "train_gen = ground_truth_generator(train_dataset)\n",
    "val_gen = ground_truth_generator(val_dataset)"
   ]
  },
  {
   "cell_type": "code",
   "execution_count": 61,
   "metadata": {},
   "outputs": [],
   "source": [
    "def iou(x1, y1, w1, h1, x2, y2, w2, h2):\n",
    "    xmin1 = x1 - 0.5*w1\n",
    "    xmax1 = x1 + 0.5*w1\n",
    "    ymin1 = y1 - 0.5*h1\n",
    "    ymax1 = y1 + 0.5*h1\n",
    "    xmin2 = x2 - 0.5*w2\n",
    "    xmax2 = x2 + 0.5*w2\n",
    "    ymin2 = y2 - 0.5*h2\n",
    "    ymax2 = y2 + 0.5*h2\n",
    "    interx = np.minimum(xmax1, xmax2) - np.maximum(xmin1, xmin2)\n",
    "    intery = np.minimum(ymax1, ymax2) - np.maximum(ymin1, ymin2)\n",
    "    inter = interx * intery\n",
    "    union = w1*h1 + w2*h2 - inter\n",
    "    iou = inter / (union + 1e-6)\n",
    "    return iou"
   ]
  },
  {
   "cell_type": "markdown",
   "metadata": {},
   "source": [
    "# Loss function\n",
    "* Calculate Loss from prediction and grouth truth tensors.\n",
    "  * detector_mask: contains batchsize, cell width, cell height, anchor and detecting flag\n",
    "  * matching_true_boxes: contain coords of bounding box\n",
    "  * class_one_hot: transfer the bounding box label to number by One hot representation\n",
    "  * true_boxes_grid: contain coords of ground truth bounding box\n",
    "  * y_pred: prediction from model\n",
    "\n",
    "\n",
    "* To calculate loss, the first step is **adjust coordinates** to grid cell unit.  \n",
    "Next, the second step is calculate the loss, we can simply take a look for yolov2 loss function.\n",
    "\n",
    "![](https://i.imgur.com/pyeKq2C.png)\n",
    "\n",
    "* As you can see, there is lots of loss we should calculate.  \n",
    "* The first loss we calculate is **coordinate loss** which is **xy_loss + wh_loss**.  \n",
    "* And we implenment the sigma formula to get **xy_loss** and **wh_loss**.  \n",
    "* Next, we calculate the **class loss** by CrossEntropy function with logits.  \n",
    "* Furthermore, we calculate IOU and find the **best IOU** between prediction and true_boxes.\n",
    "* So, we can calculate the **confidence loss** which consist of obj confidence loss , noobj confidence loss, and IOU score.  \n",
    "* Finally, we get the **total Loss**.  "
   ]
  },
  {
   "cell_type": "code",
   "execution_count": 62,
   "metadata": {},
   "outputs": [],
   "source": [
    "# loss\n",
    "\n",
    "def yolov2_loss(detector_mask, matching_true_boxes, class_one_hot, true_boxes_grid, y_pred, info=False):\n",
    "    # anchors tensor\n",
    "    anchors = np.array(ANCHORS)\n",
    "    anchors = anchors.reshape(len(anchors) // 2, 2)\n",
    "    \n",
    "    # grid coords tensor\n",
    "    coord_x = tf.cast(tf.reshape(tf.tile(tf.range(GRID_W), [GRID_H]), (1, GRID_H, GRID_W, 1, 1)), tf.float32)\n",
    "    coord_y = tf.transpose(coord_x, (0,2,1,3,4))\n",
    "    coords = tf.tile(tf.concat([coord_x,coord_y], -1), [y_pred.shape[0], 1, 1, 5, 1])\n",
    "    \n",
    "    # coordinate loss\n",
    "    pred_xy = K.sigmoid(y_pred[:,:,:,:,0:2]) # adjust coords between 0 and 1\n",
    "    pred_xy = (pred_xy + coords) # add cell coord for comparaison with ground truth. New coords in grid cell unit\n",
    "    pred_wh = K.exp(y_pred[:,:,:,:,2:4]) * anchors # adjust width and height for comparaison with ground truth. New coords in grid cell unit\n",
    "    #pred_wh = (pred_wh * anchors) # unit : grid cell\n",
    "    nb_detector_mask = K.sum(tf.cast(detector_mask > 0.0, tf.float32))\n",
    "    xy_loss = LAMBDA_COORD * K.sum(detector_mask * K.square(matching_true_boxes[...,:2] - pred_xy)) / (nb_detector_mask + 1e-6) # Non /2\n",
    "    wh_loss = LAMBDA_COORD * K.sum(detector_mask * K.square(K.sqrt(matching_true_boxes[...,2:4]) - \n",
    "                                                            K.sqrt(pred_wh))) / (nb_detector_mask + 1e-6)\n",
    "    coord_loss = xy_loss + wh_loss\n",
    "    \n",
    "    # class loss    \n",
    "    pred_box_class = y_pred[..., 5:]\n",
    "    true_box_class = tf.argmax(class_one_hot, -1)\n",
    "    # print(true_box_class)\n",
    "    # print(pred_box_class)\n",
    "    #class_loss = tf.nn.sparse_softmax_cross_entropy_with_logits(labels=true_box_class, logits=pred_box_class)\n",
    "    class_loss = K.sparse_categorical_crossentropy(target=true_box_class, output=pred_box_class, from_logits=True)\n",
    "    class_loss = K.expand_dims(class_loss, -1) * detector_mask\n",
    "    class_loss = LAMBDA_CLASS * K.sum(class_loss) / (nb_detector_mask + 1e-6)\n",
    "    \n",
    "    # confidence loss\n",
    "    pred_conf = K.sigmoid(y_pred[...,4:5])\n",
    "    # for each detector : iou between prediction and ground truth\n",
    "    x1 = matching_true_boxes[...,0]\n",
    "    y1 = matching_true_boxes[...,1]\n",
    "    w1 = matching_true_boxes[...,2]\n",
    "    h1 = matching_true_boxes[...,3]\n",
    "    x2 = pred_xy[...,0]\n",
    "    y2 = pred_xy[...,1]\n",
    "    w2 = pred_wh[...,0]\n",
    "    h2 = pred_wh[...,1]\n",
    "    ious = iou(x1, y1, w1, h1, x2, y2, w2, h2)\n",
    "    ious = K.expand_dims(ious, -1)\n",
    "     \n",
    "    # for each detector : best ious between prediction and true_boxes (every bounding box of image)\n",
    "    pred_xy = K.expand_dims(pred_xy, 4) # shape : m, GRID_W, GRID_H, BOX, 1, 2 \n",
    "    pred_wh = K.expand_dims(pred_wh, 4)\n",
    "    pred_wh_half = pred_wh / 2.\n",
    "    pred_mins = pred_xy - pred_wh_half\n",
    "    pred_maxes = pred_xy + pred_wh_half\n",
    "    true_boxe_shape = K.int_shape(true_boxes_grid)\n",
    "    true_boxes_grid = K.reshape(true_boxes_grid, [true_boxe_shape[0], 1, 1, 1, true_boxe_shape[1], true_boxe_shape[2]])\n",
    "    true_xy = true_boxes_grid[...,0:2]\n",
    "    true_wh = true_boxes_grid[...,2:4]\n",
    "    true_wh_half = true_wh * 0.5\n",
    "    true_mins = true_xy - true_wh_half\n",
    "    true_maxes = true_xy + true_wh_half\n",
    "    intersect_mins = K.maximum(pred_mins, true_mins) # shape : m, GRID_W, GRID_H, BOX, MAX_OBJECTS_PER_IMAGE, 2 \n",
    "    intersect_maxes = K.minimum(pred_maxes, true_maxes) # shape : m, GRID_W, GRID_H, BOX, MAX_OBJECTS_PER_IMAGE, 2\n",
    "    intersect_wh = K.maximum(intersect_maxes - intersect_mins, 0.) # shape : m, GRID_W, GRID_H, BOX, MAX_OBJECTS_PER_IMAGE, 1\n",
    "    intersect_areas = intersect_wh[..., 0] * intersect_wh[..., 1] # shape : m, GRID_W, GRID_H, BOX, MAX_OBJECTS_PER_IMAGE, 1\n",
    "    pred_areas = pred_wh[..., 0] * pred_wh[..., 1] # shape : m, GRID_W, GRID_H, BOX, 1, 1\n",
    "    true_areas = true_wh[..., 0] * true_wh[..., 1] # shape : m, GRID_W, GRID_H, BOX, MAX_OBJECTS_PER_IMAGE, 1\n",
    "    union_areas = pred_areas + true_areas - intersect_areas\n",
    "    iou_scores = intersect_areas / union_areas # shape : m, GRID_W, GRID_H, BOX, MAX_OBJECTS_PER_IMAGE, 1\n",
    "    best_ious = K.max(iou_scores, axis=4)  # Best IOU scores.\n",
    "    best_ious = K.expand_dims(best_ious) # shape : m, GRID_W, GRID_H, BOX, 1\n",
    "    \n",
    "    # no object confidence loss\n",
    "    no_object_detection = K.cast(best_ious < 0.6, K.dtype(best_ious)) \n",
    "    noobj_mask = no_object_detection * (1 - detector_mask)\n",
    "    nb_noobj_mask  = K.sum(tf.cast(noobj_mask  > 0.0, tf.float32))\n",
    "    \n",
    "    noobject_loss =  LAMBDA_NOOBJECT * K.sum(noobj_mask * K.square(-pred_conf)) / (nb_noobj_mask + 1e-6)\n",
    "    # object confidence loss\n",
    "    object_loss = LAMBDA_OBJECT * K.sum(detector_mask * K.square(ious - pred_conf)) / (nb_detector_mask + 1e-6)\n",
    "    # total confidence loss\n",
    "    conf_loss = noobject_loss + object_loss\n",
    "    \n",
    "    # total loss\n",
    "    loss = conf_loss + class_loss + coord_loss\n",
    "    sub_loss = [conf_loss, class_loss, coord_loss]  \n",
    "\n",
    "    if info:\n",
    "        print('conf_loss   : {:.4f}'.format(conf_loss))\n",
    "        print('class_loss  : {:.4f}'.format(class_loss))\n",
    "        print('coord_loss  : {:.4f}'.format(coord_loss))\n",
    "        print('    xy_loss : {:.4f}'.format(xy_loss))\n",
    "        print('    wh_loss : {:.4f}'.format(wh_loss))\n",
    "        print('--------------------')\n",
    "        print('total loss  : {:.4f}'.format(loss))\n",
    "        \n",
    "        # display masks for each anchors\n",
    "        for i in range(len(anchors)):\n",
    "            f, (ax1, ax2, ax3) = plt.subplots(1,3, figsize=(10, 5))\n",
    "            f.tight_layout()\n",
    "            f.suptitle('MASKS FOR ANCHOR {} :'.format(anchors[i,...]))\n",
    "            \n",
    "            ax1.matshow((K.sum(detector_mask[0,:,:,i], axis=2)), cmap='Greys', vmin=0, vmax=1)\n",
    "            ax1.set_title('detector_mask, count : {}'.format(K.sum(tf.cast(detector_mask[0,:,:,i]  > 0., tf.int32))))\n",
    "            ax1.xaxis.set_ticks_position('bottom')\n",
    "            \n",
    "            ax2.matshow((K.sum(no_object_detection[0,:,:,i], axis=2)), cmap='Greys', vmin=0, vmax=1)\n",
    "            ax2.set_title('no_object_detection mask')\n",
    "            ax2.xaxis.set_ticks_position('bottom')\n",
    "            \n",
    "            ax3.matshow((K.sum(noobj_mask[0,:,:,i], axis=2)), cmap='Greys', vmin=0, vmax=1)\n",
    "            ax3.set_title('noobj_mask')\n",
    "            ax3.xaxis.set_ticks_position('bottom')\n",
    "              \n",
    "    return loss, sub_loss"
   ]
  },
  {
   "cell_type": "markdown",
   "metadata": {},
   "source": [
    "# Some sub-training function\n",
    "* we calculate gradients by **grad** function.  \n",
    "* To find the best weights, we make a **save_best_weights** function to ensure the best weight will be save.  \n",
    "and the **log_loss** function is just a tensorboard that can show the process."
   ]
  },
  {
   "cell_type": "code",
   "execution_count": 64,
   "metadata": {},
   "outputs": [],
   "source": [
    "# gradients\n",
    "def grad(model, img, detector_mask, matching_true_boxes, class_one_hot, true_boxes, training=True):\n",
    "    with tf.GradientTape() as tape:\n",
    "        y_pred = model(img, training)\n",
    "        loss, sub_loss = yolov2_loss(detector_mask, matching_true_boxes, class_one_hot, true_boxes, y_pred)\n",
    "    return loss, sub_loss, tape.gradient(loss, model.trainable_variables)\n",
    "\n",
    "# save weights\n",
    "def save_best_weights(model, name, val_loss_avg):\n",
    "    # delete existing weights file\n",
    "    files = glob.glob(os.path.join('weights/', name + '*'))\n",
    "    for file in files:\n",
    "        os.remove(file)\n",
    "    # create new weights file\n",
    "    name = name + '_' + str(val_loss_avg) + '.h5'\n",
    "    path_name = os.path.join('weights/', name)\n",
    "    model.save_weights(path_name)\n",
    "\n",
    "# log (tensorboard)\n",
    "def log_loss(loss, val_loss, step):\n",
    "    tf.summary.scalar('loss', loss, step)\n",
    "    tf.summary.scalar('val_loss', val_loss, step)"
   ]
  },
  {
   "cell_type": "markdown",
   "metadata": {},
   "source": [
    "# Training\n",
    "* we train the whole YOLO model for 200 epochs and learning rate is 0.00001.  \n",
    "* Both training dataset and validation dataset have same hyperparameter."
   ]
  },
  {
   "cell_type": "code",
   "execution_count": 65,
   "metadata": {},
   "outputs": [],
   "source": [
    "# training\n",
    "def train(epochs, model, train_dataset, val_dataset, steps_per_epoch_train, steps_per_epoch_val, train_name = 'train'):\n",
    "    num_epochs = epochs\n",
    "    steps_per_epoch_train = steps_per_epoch_train\n",
    "    steps_per_epoch_val = steps_per_epoch_val\n",
    "    train_loss_history = []\n",
    "    val_loss_history = []\n",
    "    best_val_loss = 1e6\n",
    "    \n",
    "    # optimizer\n",
    "    optimizer = tf.keras.optimizers.Adam(learning_rate=1e-5, beta_1=0.9, beta_2=0.999, epsilon=1e-08)\n",
    "    \n",
    "    # log (tensorboard)\n",
    "    summary_writer = tf.summary.create_file_writer(os.path.join('logs/', train_name), flush_millis=20000)\n",
    "    summary_writer.set_as_default()\n",
    "    \n",
    "    # training\n",
    "    for epoch in range(num_epochs):\n",
    "        epoch_loss = []\n",
    "        epoch_val_loss = []\n",
    "        epoch_val_sub_loss = []\n",
    "        print('Epoch {} :'.format(epoch))\n",
    "        # train\n",
    "        for batch_idx in tqdm(range(steps_per_epoch_train)): \n",
    "            img, detector_mask, matching_true_boxes, class_one_hot, true_boxes =  next(train_dataset)\n",
    "            loss, _, grads = grad(model, img, detector_mask, matching_true_boxes, class_one_hot, true_boxes)\n",
    "            optimizer.apply_gradients(zip(grads, model.trainable_variables))\n",
    "            epoch_loss.append(loss)\n",
    "            # print('-', end='')\n",
    "        # print(' | ', end='')\n",
    "        # val\n",
    "        for batch_idx in range(steps_per_epoch_val): \n",
    "            img, detector_mask, matching_true_boxes, class_one_hot, true_boxes =  next(val_dataset)\n",
    "            loss, sub_loss, grads = grad(model, img, detector_mask, matching_true_boxes, class_one_hot, true_boxes, training=False)\n",
    "            epoch_val_loss.append(loss)\n",
    "            epoch_val_sub_loss.append(sub_loss)\n",
    "            # print('-', end='')\n",
    "\n",
    "        loss_avg = np.mean(np.array(epoch_loss))\n",
    "        val_loss_avg = np.mean(np.array(epoch_val_loss))\n",
    "        sub_loss_avg = np.mean(np.array(epoch_val_sub_loss), axis=0)\n",
    "        train_loss_history.append(loss_avg)\n",
    "        val_loss_history.append(val_loss_avg)\n",
    "        \n",
    "        # log\n",
    "        log_loss(loss_avg, val_loss_avg, epoch)\n",
    "        \n",
    "        # save\n",
    "        if val_loss_avg < best_val_loss:\n",
    "            save_best_weights(model, train_name, val_loss_avg)\n",
    "            best_val_loss = val_loss_avg\n",
    "        \n",
    "        print(' loss = {:.4f}, val_loss = {:.4f} (conf={:.4f}, class={:.4f}, coords={:.4f})'.format(\n",
    "            loss_avg, val_loss_avg, sub_loss_avg[0], sub_loss_avg[1], sub_loss_avg[2]))\n",
    "        \n",
    "    return [train_loss_history, val_loss_history]"
   ]
  },
  {
   "cell_type": "code",
   "execution_count": 66,
   "metadata": {},
   "outputs": [
    {
     "name": "stdout",
     "output_type": "stream",
     "text": [
      "Epoch 0 :\n"
     ]
    },
    {
     "name": "stderr",
     "output_type": "stream",
     "text": [
      "  0%|          | 0/20 [00:00<?, ?it/s]2022-11-17 03:39:41.468249: I tensorflow/stream_executor/cuda/cuda_blas.cc:1838] TensorFloat-32 will be used for the matrix multiplication. This will only be logged once.\n",
      "100%|██████████| 20/20 [00:05<00:00,  3.79it/s]\n"
     ]
    },
    {
     "name": "stdout",
     "output_type": "stream",
     "text": [
      " loss = 3.8368, val_loss = 3.7784 (conf=0.4311, class=2.9879, coords=0.3594)\n",
      "Epoch 1 :\n"
     ]
    },
    {
     "name": "stderr",
     "output_type": "stream",
     "text": [
      "100%|██████████| 20/20 [00:04<00:00,  4.92it/s]\n"
     ]
    },
    {
     "name": "stdout",
     "output_type": "stream",
     "text": [
      " loss = 3.7494, val_loss = 3.8356 (conf=0.4410, class=2.9803, coords=0.4142)\n",
      "Epoch 2 :\n"
     ]
    },
    {
     "name": "stderr",
     "output_type": "stream",
     "text": [
      "100%|██████████| 20/20 [00:04<00:00,  4.95it/s]\n"
     ]
    },
    {
     "name": "stdout",
     "output_type": "stream",
     "text": [
      " loss = 3.6285, val_loss = 3.7429 (conf=0.4151, class=2.9601, coords=0.3677)\n",
      "Epoch 3 :\n"
     ]
    },
    {
     "name": "stderr",
     "output_type": "stream",
     "text": [
      "100%|██████████| 20/20 [00:04<00:00,  4.88it/s]\n"
     ]
    },
    {
     "name": "stdout",
     "output_type": "stream",
     "text": [
      " loss = 3.5516, val_loss = 3.7986 (conf=0.4358, class=2.9483, coords=0.4146)\n",
      "Epoch 4 :\n"
     ]
    },
    {
     "name": "stderr",
     "output_type": "stream",
     "text": [
      "100%|██████████| 20/20 [00:04<00:00,  4.98it/s]\n"
     ]
    },
    {
     "name": "stdout",
     "output_type": "stream",
     "text": [
      " loss = 3.4397, val_loss = 3.6649 (conf=0.4049, class=2.8931, coords=0.3669)\n",
      "Epoch 5 :\n"
     ]
    },
    {
     "name": "stderr",
     "output_type": "stream",
     "text": [
      "100%|██████████| 20/20 [00:04<00:00,  5.00it/s]\n"
     ]
    },
    {
     "name": "stdout",
     "output_type": "stream",
     "text": [
      " loss = 3.3272, val_loss = 3.6307 (conf=0.3910, class=2.8638, coords=0.3760)\n",
      "Epoch 6 :\n"
     ]
    },
    {
     "name": "stderr",
     "output_type": "stream",
     "text": [
      "100%|██████████| 20/20 [00:04<00:00,  4.96it/s]\n"
     ]
    },
    {
     "name": "stdout",
     "output_type": "stream",
     "text": [
      " loss = 3.2668, val_loss = 3.5884 (conf=0.4019, class=2.8058, coords=0.3807)\n",
      "Epoch 7 :\n"
     ]
    },
    {
     "name": "stderr",
     "output_type": "stream",
     "text": [
      "100%|██████████| 20/20 [00:04<00:00,  4.93it/s]\n"
     ]
    },
    {
     "name": "stdout",
     "output_type": "stream",
     "text": [
      " loss = 3.0894, val_loss = 3.5054 (conf=0.4166, class=2.7233, coords=0.3655)\n",
      "Epoch 8 :\n"
     ]
    },
    {
     "name": "stderr",
     "output_type": "stream",
     "text": [
      "100%|██████████| 20/20 [00:04<00:00,  4.91it/s]\n"
     ]
    },
    {
     "name": "stdout",
     "output_type": "stream",
     "text": [
      " loss = 3.0123, val_loss = 3.3855 (conf=0.3923, class=2.6553, coords=0.3379)\n",
      "Epoch 9 :\n"
     ]
    },
    {
     "name": "stderr",
     "output_type": "stream",
     "text": [
      "100%|██████████| 20/20 [00:03<00:00,  5.01it/s]\n"
     ]
    },
    {
     "name": "stdout",
     "output_type": "stream",
     "text": [
      " loss = 2.9679, val_loss = 3.2417 (conf=0.3635, class=2.5298, coords=0.3484)\n",
      "Epoch 10 :\n"
     ]
    },
    {
     "name": "stderr",
     "output_type": "stream",
     "text": [
      "100%|██████████| 20/20 [00:03<00:00,  5.04it/s]\n"
     ]
    },
    {
     "name": "stdout",
     "output_type": "stream",
     "text": [
      " loss = 2.9027, val_loss = 3.0738 (conf=0.3583, class=2.3927, coords=0.3228)\n",
      "Epoch 11 :\n"
     ]
    },
    {
     "name": "stderr",
     "output_type": "stream",
     "text": [
      "100%|██████████| 20/20 [00:03<00:00,  5.01it/s]\n"
     ]
    },
    {
     "name": "stdout",
     "output_type": "stream",
     "text": [
      " loss = 2.8108, val_loss = 3.0334 (conf=0.3783, class=2.3032, coords=0.3519)\n",
      "Epoch 12 :\n"
     ]
    },
    {
     "name": "stderr",
     "output_type": "stream",
     "text": [
      "100%|██████████| 20/20 [00:03<00:00,  5.03it/s]\n"
     ]
    },
    {
     "name": "stdout",
     "output_type": "stream",
     "text": [
      " loss = 2.7311, val_loss = 2.9078 (conf=0.3489, class=2.1575, coords=0.4014)\n",
      "Epoch 13 :\n"
     ]
    },
    {
     "name": "stderr",
     "output_type": "stream",
     "text": [
      "100%|██████████| 20/20 [00:03<00:00,  5.06it/s]\n"
     ]
    },
    {
     "name": "stdout",
     "output_type": "stream",
     "text": [
      " loss = 2.6851, val_loss = 2.7587 (conf=0.3473, class=2.0605, coords=0.3509)\n",
      "Epoch 14 :\n"
     ]
    },
    {
     "name": "stderr",
     "output_type": "stream",
     "text": [
      "100%|██████████| 20/20 [00:04<00:00,  4.96it/s]\n"
     ]
    },
    {
     "name": "stdout",
     "output_type": "stream",
     "text": [
      " loss = 2.5769, val_loss = 2.8531 (conf=0.3471, class=2.1768, coords=0.3292)\n",
      "Epoch 15 :\n"
     ]
    },
    {
     "name": "stderr",
     "output_type": "stream",
     "text": [
      "100%|██████████| 20/20 [00:04<00:00,  4.86it/s]\n"
     ]
    },
    {
     "name": "stdout",
     "output_type": "stream",
     "text": [
      " loss = 2.5605, val_loss = 2.5026 (conf=0.3110, class=1.8396, coords=0.3521)\n",
      "Epoch 16 :\n"
     ]
    },
    {
     "name": "stderr",
     "output_type": "stream",
     "text": [
      "100%|██████████| 20/20 [00:04<00:00,  4.93it/s]\n"
     ]
    },
    {
     "name": "stdout",
     "output_type": "stream",
     "text": [
      " loss = 2.5346, val_loss = 2.5014 (conf=0.3173, class=1.7815, coords=0.4026)\n",
      "Epoch 17 :\n"
     ]
    },
    {
     "name": "stderr",
     "output_type": "stream",
     "text": [
      "100%|██████████| 20/20 [00:04<00:00,  4.97it/s]\n"
     ]
    },
    {
     "name": "stdout",
     "output_type": "stream",
     "text": [
      " loss = 2.4457, val_loss = 2.6133 (conf=0.3265, class=1.9409, coords=0.3458)\n",
      "Epoch 18 :\n"
     ]
    },
    {
     "name": "stderr",
     "output_type": "stream",
     "text": [
      "100%|██████████| 20/20 [00:04<00:00,  4.98it/s]\n"
     ]
    },
    {
     "name": "stdout",
     "output_type": "stream",
     "text": [
      " loss = 2.4116, val_loss = 2.2429 (conf=0.3086, class=1.6141, coords=0.3203)\n",
      "Epoch 19 :\n"
     ]
    },
    {
     "name": "stderr",
     "output_type": "stream",
     "text": [
      "100%|██████████| 20/20 [00:04<00:00,  4.95it/s]\n"
     ]
    },
    {
     "name": "stdout",
     "output_type": "stream",
     "text": [
      " loss = 2.3476, val_loss = 2.2600 (conf=0.3029, class=1.6346, coords=0.3225)\n",
      "Epoch 20 :\n"
     ]
    },
    {
     "name": "stderr",
     "output_type": "stream",
     "text": [
      "100%|██████████| 20/20 [00:04<00:00,  4.93it/s]\n"
     ]
    },
    {
     "name": "stdout",
     "output_type": "stream",
     "text": [
      " loss = 2.3527, val_loss = 2.0102 (conf=0.3092, class=1.3686, coords=0.3325)\n",
      "Epoch 21 :\n"
     ]
    },
    {
     "name": "stderr",
     "output_type": "stream",
     "text": [
      "100%|██████████| 20/20 [00:04<00:00,  4.96it/s]\n"
     ]
    },
    {
     "name": "stdout",
     "output_type": "stream",
     "text": [
      " loss = 2.2599, val_loss = 2.1493 (conf=0.2748, class=1.5202, coords=0.3544)\n",
      "Epoch 22 :\n"
     ]
    },
    {
     "name": "stderr",
     "output_type": "stream",
     "text": [
      "100%|██████████| 20/20 [00:04<00:00,  4.91it/s]\n"
     ]
    },
    {
     "name": "stdout",
     "output_type": "stream",
     "text": [
      " loss = 2.1986, val_loss = 2.0264 (conf=0.2966, class=1.4271, coords=0.3026)\n",
      "Epoch 23 :\n"
     ]
    },
    {
     "name": "stderr",
     "output_type": "stream",
     "text": [
      "100%|██████████| 20/20 [00:04<00:00,  4.98it/s]\n"
     ]
    },
    {
     "name": "stdout",
     "output_type": "stream",
     "text": [
      " loss = 2.2610, val_loss = 2.1001 (conf=0.2916, class=1.4826, coords=0.3259)\n",
      "Epoch 24 :\n"
     ]
    },
    {
     "name": "stderr",
     "output_type": "stream",
     "text": [
      "100%|██████████| 20/20 [00:04<00:00,  5.00it/s]\n"
     ]
    },
    {
     "name": "stdout",
     "output_type": "stream",
     "text": [
      " loss = 2.1116, val_loss = 1.9217 (conf=0.2669, class=1.2887, coords=0.3661)\n",
      "Epoch 25 :\n"
     ]
    },
    {
     "name": "stderr",
     "output_type": "stream",
     "text": [
      "100%|██████████| 20/20 [00:04<00:00,  5.00it/s]\n"
     ]
    },
    {
     "name": "stdout",
     "output_type": "stream",
     "text": [
      " loss = 2.1363, val_loss = 1.8618 (conf=0.2805, class=1.2521, coords=0.3292)\n",
      "Epoch 26 :\n"
     ]
    },
    {
     "name": "stderr",
     "output_type": "stream",
     "text": [
      "100%|██████████| 20/20 [00:03<00:00,  5.01it/s]\n"
     ]
    },
    {
     "name": "stdout",
     "output_type": "stream",
     "text": [
      " loss = 2.1209, val_loss = 1.8072 (conf=0.2992, class=1.2018, coords=0.3062)\n",
      "Epoch 27 :\n"
     ]
    },
    {
     "name": "stderr",
     "output_type": "stream",
     "text": [
      "100%|██████████| 20/20 [00:03<00:00,  5.01it/s]\n"
     ]
    },
    {
     "name": "stdout",
     "output_type": "stream",
     "text": [
      " loss = 2.0432, val_loss = 2.0345 (conf=0.2774, class=1.4177, coords=0.3394)\n",
      "Epoch 28 :\n"
     ]
    },
    {
     "name": "stderr",
     "output_type": "stream",
     "text": [
      "100%|██████████| 20/20 [00:04<00:00,  4.97it/s]\n"
     ]
    },
    {
     "name": "stdout",
     "output_type": "stream",
     "text": [
      " loss = 2.0145, val_loss = 1.9742 (conf=0.2859, class=1.3264, coords=0.3619)\n",
      "Epoch 29 :\n"
     ]
    },
    {
     "name": "stderr",
     "output_type": "stream",
     "text": [
      "100%|██████████| 20/20 [00:04<00:00,  4.87it/s]\n"
     ]
    },
    {
     "name": "stdout",
     "output_type": "stream",
     "text": [
      " loss = 1.9412, val_loss = 1.5275 (conf=0.2573, class=0.9549, coords=0.3152)\n",
      "Epoch 30 :\n"
     ]
    },
    {
     "name": "stderr",
     "output_type": "stream",
     "text": [
      "100%|██████████| 20/20 [00:04<00:00,  4.76it/s]\n"
     ]
    },
    {
     "name": "stdout",
     "output_type": "stream",
     "text": [
      " loss = 1.9597, val_loss = 1.6647 (conf=0.2636, class=1.0428, coords=0.3583)\n",
      "Epoch 31 :\n"
     ]
    },
    {
     "name": "stderr",
     "output_type": "stream",
     "text": [
      "100%|██████████| 20/20 [00:04<00:00,  4.98it/s]\n"
     ]
    },
    {
     "name": "stdout",
     "output_type": "stream",
     "text": [
      " loss = 1.9604, val_loss = 1.5487 (conf=0.2642, class=0.9523, coords=0.3322)\n",
      "Epoch 32 :\n"
     ]
    },
    {
     "name": "stderr",
     "output_type": "stream",
     "text": [
      "100%|██████████| 20/20 [00:03<00:00,  5.02it/s]\n"
     ]
    },
    {
     "name": "stdout",
     "output_type": "stream",
     "text": [
      " loss = 1.9139, val_loss = 1.6878 (conf=0.2733, class=1.1035, coords=0.3111)\n",
      "Epoch 33 :\n"
     ]
    },
    {
     "name": "stderr",
     "output_type": "stream",
     "text": [
      "100%|██████████| 20/20 [00:04<00:00,  4.96it/s]\n"
     ]
    },
    {
     "name": "stdout",
     "output_type": "stream",
     "text": [
      " loss = 1.8003, val_loss = 1.8450 (conf=0.2578, class=1.2312, coords=0.3561)\n",
      "Epoch 34 :\n"
     ]
    },
    {
     "name": "stderr",
     "output_type": "stream",
     "text": [
      "100%|██████████| 20/20 [00:04<00:00,  4.99it/s]\n"
     ]
    },
    {
     "name": "stdout",
     "output_type": "stream",
     "text": [
      " loss = 1.8895, val_loss = 1.6824 (conf=0.2676, class=1.1269, coords=0.2879)\n",
      "Epoch 35 :\n"
     ]
    },
    {
     "name": "stderr",
     "output_type": "stream",
     "text": [
      "100%|██████████| 20/20 [00:04<00:00,  4.97it/s]\n"
     ]
    },
    {
     "name": "stdout",
     "output_type": "stream",
     "text": [
      " loss = 1.8056, val_loss = 1.6344 (conf=0.2527, class=1.0408, coords=0.3409)\n",
      "Epoch 36 :\n"
     ]
    },
    {
     "name": "stderr",
     "output_type": "stream",
     "text": [
      "100%|██████████| 20/20 [00:04<00:00,  4.96it/s]\n"
     ]
    },
    {
     "name": "stdout",
     "output_type": "stream",
     "text": [
      " loss = 1.7576, val_loss = 1.4942 (conf=0.2747, class=0.8947, coords=0.3248)\n",
      "Epoch 37 :\n"
     ]
    },
    {
     "name": "stderr",
     "output_type": "stream",
     "text": [
      "100%|██████████| 20/20 [00:04<00:00,  4.91it/s]\n"
     ]
    },
    {
     "name": "stdout",
     "output_type": "stream",
     "text": [
      " loss = 1.6761, val_loss = 1.7041 (conf=0.2853, class=1.0874, coords=0.3314)\n",
      "Epoch 38 :\n"
     ]
    },
    {
     "name": "stderr",
     "output_type": "stream",
     "text": [
      "100%|██████████| 20/20 [00:04<00:00,  4.96it/s]\n"
     ]
    },
    {
     "name": "stdout",
     "output_type": "stream",
     "text": [
      " loss = 1.7471, val_loss = 1.5992 (conf=0.2478, class=1.0203, coords=0.3311)\n",
      "Epoch 39 :\n"
     ]
    },
    {
     "name": "stderr",
     "output_type": "stream",
     "text": [
      "100%|██████████| 20/20 [00:04<00:00,  4.97it/s]\n"
     ]
    },
    {
     "name": "stdout",
     "output_type": "stream",
     "text": [
      " loss = 1.7303, val_loss = 1.6236 (conf=0.2649, class=1.0129, coords=0.3458)\n",
      "Epoch 40 :\n"
     ]
    },
    {
     "name": "stderr",
     "output_type": "stream",
     "text": [
      "100%|██████████| 20/20 [00:04<00:00,  4.92it/s]\n"
     ]
    },
    {
     "name": "stdout",
     "output_type": "stream",
     "text": [
      " loss = 1.6881, val_loss = 1.6049 (conf=0.2506, class=1.0316, coords=0.3227)\n",
      "Epoch 41 :\n"
     ]
    },
    {
     "name": "stderr",
     "output_type": "stream",
     "text": [
      "100%|██████████| 20/20 [00:04<00:00,  4.96it/s]\n"
     ]
    },
    {
     "name": "stdout",
     "output_type": "stream",
     "text": [
      " loss = 1.6909, val_loss = 1.4574 (conf=0.2662, class=0.9032, coords=0.2880)\n",
      "Epoch 42 :\n"
     ]
    },
    {
     "name": "stderr",
     "output_type": "stream",
     "text": [
      "100%|██████████| 20/20 [00:04<00:00,  4.98it/s]\n"
     ]
    },
    {
     "name": "stdout",
     "output_type": "stream",
     "text": [
      " loss = 1.6065, val_loss = 1.4735 (conf=0.2472, class=0.9311, coords=0.2952)\n",
      "Epoch 43 :\n"
     ]
    },
    {
     "name": "stderr",
     "output_type": "stream",
     "text": [
      "100%|██████████| 20/20 [00:04<00:00,  4.97it/s]\n"
     ]
    },
    {
     "name": "stdout",
     "output_type": "stream",
     "text": [
      " loss = 1.6004, val_loss = 1.5375 (conf=0.2463, class=0.9505, coords=0.3407)\n",
      "Epoch 44 :\n"
     ]
    },
    {
     "name": "stderr",
     "output_type": "stream",
     "text": [
      "100%|██████████| 20/20 [00:04<00:00,  4.87it/s]\n"
     ]
    },
    {
     "name": "stdout",
     "output_type": "stream",
     "text": [
      " loss = 1.5987, val_loss = 1.6214 (conf=0.2594, class=1.0685, coords=0.2935)\n",
      "Epoch 45 :\n"
     ]
    },
    {
     "name": "stderr",
     "output_type": "stream",
     "text": [
      "100%|██████████| 20/20 [00:04<00:00,  4.92it/s]\n"
     ]
    },
    {
     "name": "stdout",
     "output_type": "stream",
     "text": [
      " loss = 1.5556, val_loss = 1.4227 (conf=0.2505, class=0.8457, coords=0.3266)\n",
      "Epoch 46 :\n"
     ]
    },
    {
     "name": "stderr",
     "output_type": "stream",
     "text": [
      "100%|██████████| 20/20 [00:04<00:00,  4.97it/s]\n"
     ]
    },
    {
     "name": "stdout",
     "output_type": "stream",
     "text": [
      " loss = 1.6350, val_loss = 1.5368 (conf=0.2835, class=0.9408, coords=0.3125)\n",
      "Epoch 47 :\n"
     ]
    },
    {
     "name": "stderr",
     "output_type": "stream",
     "text": [
      "100%|██████████| 20/20 [00:04<00:00,  4.95it/s]\n"
     ]
    },
    {
     "name": "stdout",
     "output_type": "stream",
     "text": [
      " loss = 1.5355, val_loss = 1.2455 (conf=0.2264, class=0.6951, coords=0.3240)\n",
      "Epoch 48 :\n"
     ]
    },
    {
     "name": "stderr",
     "output_type": "stream",
     "text": [
      "100%|██████████| 20/20 [00:03<00:00,  5.05it/s]\n"
     ]
    },
    {
     "name": "stdout",
     "output_type": "stream",
     "text": [
      " loss = 1.5786, val_loss = 1.6352 (conf=0.2378, class=1.0999, coords=0.2976)\n",
      "Epoch 49 :\n"
     ]
    },
    {
     "name": "stderr",
     "output_type": "stream",
     "text": [
      "100%|██████████| 20/20 [00:03<00:00,  5.00it/s]\n"
     ]
    },
    {
     "name": "stdout",
     "output_type": "stream",
     "text": [
      " loss = 1.4713, val_loss = 1.3885 (conf=0.2454, class=0.8117, coords=0.3314)\n",
      "Epoch 50 :\n"
     ]
    },
    {
     "name": "stderr",
     "output_type": "stream",
     "text": [
      "100%|██████████| 20/20 [00:03<00:00,  5.00it/s]\n"
     ]
    },
    {
     "name": "stdout",
     "output_type": "stream",
     "text": [
      " loss = 1.4176, val_loss = 1.3901 (conf=0.2491, class=0.8180, coords=0.3229)\n",
      "Epoch 51 :\n"
     ]
    },
    {
     "name": "stderr",
     "output_type": "stream",
     "text": [
      "100%|██████████| 20/20 [00:04<00:00,  4.87it/s]\n"
     ]
    },
    {
     "name": "stdout",
     "output_type": "stream",
     "text": [
      " loss = 1.4708, val_loss = 1.6144 (conf=0.2624, class=1.0529, coords=0.2991)\n",
      "Epoch 52 :\n"
     ]
    },
    {
     "name": "stderr",
     "output_type": "stream",
     "text": [
      "100%|██████████| 20/20 [00:04<00:00,  4.97it/s]\n"
     ]
    },
    {
     "name": "stdout",
     "output_type": "stream",
     "text": [
      " loss = 1.5084, val_loss = 1.4919 (conf=0.2417, class=0.9500, coords=0.3003)\n",
      "Epoch 53 :\n"
     ]
    },
    {
     "name": "stderr",
     "output_type": "stream",
     "text": [
      "100%|██████████| 20/20 [00:03<00:00,  5.00it/s]\n"
     ]
    },
    {
     "name": "stdout",
     "output_type": "stream",
     "text": [
      " loss = 1.4085, val_loss = 1.2659 (conf=0.2604, class=0.6986, coords=0.3070)\n",
      "Epoch 54 :\n"
     ]
    },
    {
     "name": "stderr",
     "output_type": "stream",
     "text": [
      "100%|██████████| 20/20 [00:04<00:00,  4.95it/s]\n"
     ]
    },
    {
     "name": "stdout",
     "output_type": "stream",
     "text": [
      " loss = 1.4351, val_loss = 1.4479 (conf=0.2264, class=0.8751, coords=0.3464)\n",
      "Epoch 55 :\n"
     ]
    },
    {
     "name": "stderr",
     "output_type": "stream",
     "text": [
      "100%|██████████| 20/20 [00:04<00:00,  4.94it/s]\n"
     ]
    },
    {
     "name": "stdout",
     "output_type": "stream",
     "text": [
      " loss = 1.4178, val_loss = 1.6540 (conf=0.2269, class=1.0779, coords=0.3492)\n",
      "Epoch 56 :\n"
     ]
    },
    {
     "name": "stderr",
     "output_type": "stream",
     "text": [
      "100%|██████████| 20/20 [00:04<00:00,  4.99it/s]\n"
     ]
    },
    {
     "name": "stdout",
     "output_type": "stream",
     "text": [
      " loss = 1.4109, val_loss = 1.2130 (conf=0.2358, class=0.6789, coords=0.2983)\n",
      "Epoch 57 :\n"
     ]
    },
    {
     "name": "stderr",
     "output_type": "stream",
     "text": [
      "100%|██████████| 20/20 [00:04<00:00,  4.96it/s]\n"
     ]
    },
    {
     "name": "stdout",
     "output_type": "stream",
     "text": [
      " loss = 1.3616, val_loss = 1.4247 (conf=0.2402, class=0.8982, coords=0.2863)\n",
      "Epoch 58 :\n"
     ]
    },
    {
     "name": "stderr",
     "output_type": "stream",
     "text": [
      "100%|██████████| 20/20 [00:04<00:00,  4.88it/s]\n"
     ]
    },
    {
     "name": "stdout",
     "output_type": "stream",
     "text": [
      " loss = 1.3770, val_loss = 1.2742 (conf=0.2491, class=0.7644, coords=0.2608)\n",
      "Epoch 59 :\n"
     ]
    },
    {
     "name": "stderr",
     "output_type": "stream",
     "text": [
      "100%|██████████| 20/20 [00:03<00:00,  5.01it/s]\n"
     ]
    },
    {
     "name": "stdout",
     "output_type": "stream",
     "text": [
      " loss = 1.3993, val_loss = 1.2588 (conf=0.2518, class=0.7116, coords=0.2954)\n",
      "Epoch 60 :\n"
     ]
    },
    {
     "name": "stderr",
     "output_type": "stream",
     "text": [
      "100%|██████████| 20/20 [00:04<00:00,  4.88it/s]\n"
     ]
    },
    {
     "name": "stdout",
     "output_type": "stream",
     "text": [
      " loss = 1.3474, val_loss = 1.3291 (conf=0.2420, class=0.7907, coords=0.2964)\n",
      "Epoch 61 :\n"
     ]
    },
    {
     "name": "stderr",
     "output_type": "stream",
     "text": [
      "100%|██████████| 20/20 [00:04<00:00,  4.91it/s]\n"
     ]
    },
    {
     "name": "stdout",
     "output_type": "stream",
     "text": [
      " loss = 1.3435, val_loss = 1.2169 (conf=0.2704, class=0.6514, coords=0.2951)\n",
      "Epoch 62 :\n"
     ]
    },
    {
     "name": "stderr",
     "output_type": "stream",
     "text": [
      "100%|██████████| 20/20 [00:04<00:00,  4.88it/s]\n"
     ]
    },
    {
     "name": "stdout",
     "output_type": "stream",
     "text": [
      " loss = 1.3142, val_loss = 1.2373 (conf=0.2208, class=0.7113, coords=0.3052)\n",
      "Epoch 63 :\n"
     ]
    },
    {
     "name": "stderr",
     "output_type": "stream",
     "text": [
      "100%|██████████| 20/20 [00:04<00:00,  4.75it/s]\n"
     ]
    },
    {
     "name": "stdout",
     "output_type": "stream",
     "text": [
      " loss = 1.2985, val_loss = 1.4469 (conf=0.2273, class=0.9228, coords=0.2968)\n",
      "Epoch 64 :\n"
     ]
    },
    {
     "name": "stderr",
     "output_type": "stream",
     "text": [
      "100%|██████████| 20/20 [00:04<00:00,  4.90it/s]\n"
     ]
    },
    {
     "name": "stdout",
     "output_type": "stream",
     "text": [
      " loss = 1.2991, val_loss = 1.2389 (conf=0.2404, class=0.7000, coords=0.2985)\n",
      "Epoch 65 :\n"
     ]
    },
    {
     "name": "stderr",
     "output_type": "stream",
     "text": [
      "100%|██████████| 20/20 [00:04<00:00,  4.90it/s]\n"
     ]
    },
    {
     "name": "stdout",
     "output_type": "stream",
     "text": [
      " loss = 1.2578, val_loss = 1.3976 (conf=0.2707, class=0.8169, coords=0.3100)\n",
      "Epoch 66 :\n"
     ]
    },
    {
     "name": "stderr",
     "output_type": "stream",
     "text": [
      "100%|██████████| 20/20 [00:04<00:00,  4.79it/s]\n"
     ]
    },
    {
     "name": "stdout",
     "output_type": "stream",
     "text": [
      " loss = 1.2877, val_loss = 1.1315 (conf=0.2260, class=0.6237, coords=0.2819)\n",
      "Epoch 67 :\n"
     ]
    },
    {
     "name": "stderr",
     "output_type": "stream",
     "text": [
      "100%|██████████| 20/20 [00:04<00:00,  4.86it/s]\n"
     ]
    },
    {
     "name": "stdout",
     "output_type": "stream",
     "text": [
      " loss = 1.2652, val_loss = 1.2142 (conf=0.2272, class=0.6884, coords=0.2986)\n",
      "Epoch 68 :\n"
     ]
    },
    {
     "name": "stderr",
     "output_type": "stream",
     "text": [
      "100%|██████████| 20/20 [00:04<00:00,  4.88it/s]\n"
     ]
    },
    {
     "name": "stdout",
     "output_type": "stream",
     "text": [
      " loss = 1.2597, val_loss = 1.4237 (conf=0.2279, class=0.8637, coords=0.3322)\n",
      "Epoch 69 :\n"
     ]
    },
    {
     "name": "stderr",
     "output_type": "stream",
     "text": [
      "100%|██████████| 20/20 [00:04<00:00,  4.91it/s]\n"
     ]
    },
    {
     "name": "stdout",
     "output_type": "stream",
     "text": [
      " loss = 1.2559, val_loss = 1.5875 (conf=0.2309, class=1.0708, coords=0.2859)\n",
      "Epoch 70 :\n"
     ]
    },
    {
     "name": "stderr",
     "output_type": "stream",
     "text": [
      "100%|██████████| 20/20 [00:04<00:00,  4.88it/s]\n"
     ]
    },
    {
     "name": "stdout",
     "output_type": "stream",
     "text": [
      " loss = 1.2272, val_loss = 1.3030 (conf=0.2063, class=0.7959, coords=0.3008)\n",
      "Epoch 71 :\n"
     ]
    },
    {
     "name": "stderr",
     "output_type": "stream",
     "text": [
      "100%|██████████| 20/20 [00:04<00:00,  4.93it/s]\n"
     ]
    },
    {
     "name": "stdout",
     "output_type": "stream",
     "text": [
      " loss = 1.2194, val_loss = 1.2155 (conf=0.2178, class=0.6883, coords=0.3094)\n",
      "Epoch 72 :\n"
     ]
    },
    {
     "name": "stderr",
     "output_type": "stream",
     "text": [
      "100%|██████████| 20/20 [00:04<00:00,  4.91it/s]\n"
     ]
    },
    {
     "name": "stdout",
     "output_type": "stream",
     "text": [
      " loss = 1.2037, val_loss = 1.2763 (conf=0.2364, class=0.7107, coords=0.3291)\n",
      "Epoch 73 :\n"
     ]
    },
    {
     "name": "stderr",
     "output_type": "stream",
     "text": [
      "100%|██████████| 20/20 [00:04<00:00,  4.84it/s]\n"
     ]
    },
    {
     "name": "stdout",
     "output_type": "stream",
     "text": [
      " loss = 1.2180, val_loss = 1.2830 (conf=0.2217, class=0.7586, coords=0.3027)\n",
      "Epoch 74 :\n"
     ]
    },
    {
     "name": "stderr",
     "output_type": "stream",
     "text": [
      "100%|██████████| 20/20 [00:04<00:00,  4.91it/s]\n"
     ]
    },
    {
     "name": "stdout",
     "output_type": "stream",
     "text": [
      " loss = 1.1747, val_loss = 1.1522 (conf=0.2410, class=0.6130, coords=0.2983)\n",
      "Epoch 75 :\n"
     ]
    },
    {
     "name": "stderr",
     "output_type": "stream",
     "text": [
      "100%|██████████| 20/20 [00:04<00:00,  4.90it/s]\n"
     ]
    },
    {
     "name": "stdout",
     "output_type": "stream",
     "text": [
      " loss = 1.1499, val_loss = 1.0671 (conf=0.2281, class=0.5577, coords=0.2813)\n",
      "Epoch 76 :\n"
     ]
    },
    {
     "name": "stderr",
     "output_type": "stream",
     "text": [
      "100%|██████████| 20/20 [00:04<00:00,  4.94it/s]\n"
     ]
    },
    {
     "name": "stdout",
     "output_type": "stream",
     "text": [
      " loss = 1.1584, val_loss = 1.3791 (conf=0.2380, class=0.8426, coords=0.2986)\n",
      "Epoch 77 :\n"
     ]
    },
    {
     "name": "stderr",
     "output_type": "stream",
     "text": [
      "100%|██████████| 20/20 [00:04<00:00,  4.93it/s]\n"
     ]
    },
    {
     "name": "stdout",
     "output_type": "stream",
     "text": [
      " loss = 1.1456, val_loss = 1.1426 (conf=0.2292, class=0.5891, coords=0.3243)\n",
      "Epoch 78 :\n"
     ]
    },
    {
     "name": "stderr",
     "output_type": "stream",
     "text": [
      "100%|██████████| 20/20 [00:04<00:00,  4.93it/s]\n"
     ]
    },
    {
     "name": "stdout",
     "output_type": "stream",
     "text": [
      " loss = 1.1238, val_loss = 1.1586 (conf=0.2125, class=0.6439, coords=0.3022)\n",
      "Epoch 79 :\n"
     ]
    },
    {
     "name": "stderr",
     "output_type": "stream",
     "text": [
      "100%|██████████| 20/20 [00:04<00:00,  4.87it/s]\n"
     ]
    },
    {
     "name": "stdout",
     "output_type": "stream",
     "text": [
      " loss = 1.1197, val_loss = 1.2696 (conf=0.2304, class=0.7647, coords=0.2746)\n",
      "Epoch 80 :\n"
     ]
    },
    {
     "name": "stderr",
     "output_type": "stream",
     "text": [
      "100%|██████████| 20/20 [00:04<00:00,  4.87it/s]\n"
     ]
    },
    {
     "name": "stdout",
     "output_type": "stream",
     "text": [
      " loss = 1.1281, val_loss = 1.3577 (conf=0.2480, class=0.7840, coords=0.3257)\n",
      "Epoch 81 :\n"
     ]
    },
    {
     "name": "stderr",
     "output_type": "stream",
     "text": [
      "100%|██████████| 20/20 [00:04<00:00,  4.97it/s]\n"
     ]
    },
    {
     "name": "stdout",
     "output_type": "stream",
     "text": [
      " loss = 1.1150, val_loss = 1.3531 (conf=0.2369, class=0.8502, coords=0.2660)\n",
      "Epoch 82 :\n"
     ]
    },
    {
     "name": "stderr",
     "output_type": "stream",
     "text": [
      "100%|██████████| 20/20 [00:04<00:00,  4.91it/s]\n"
     ]
    },
    {
     "name": "stdout",
     "output_type": "stream",
     "text": [
      " loss = 1.1099, val_loss = 1.1449 (conf=0.2207, class=0.6312, coords=0.2930)\n",
      "Epoch 83 :\n"
     ]
    },
    {
     "name": "stderr",
     "output_type": "stream",
     "text": [
      "100%|██████████| 20/20 [00:04<00:00,  4.93it/s]\n"
     ]
    },
    {
     "name": "stdout",
     "output_type": "stream",
     "text": [
      " loss = 1.0812, val_loss = 1.1788 (conf=0.2057, class=0.6739, coords=0.2992)\n",
      "Epoch 84 :\n"
     ]
    },
    {
     "name": "stderr",
     "output_type": "stream",
     "text": [
      "100%|██████████| 20/20 [00:04<00:00,  4.90it/s]\n"
     ]
    },
    {
     "name": "stdout",
     "output_type": "stream",
     "text": [
      " loss = 1.0771, val_loss = 1.3418 (conf=0.2305, class=0.8101, coords=0.3013)\n",
      "Epoch 85 :\n"
     ]
    },
    {
     "name": "stderr",
     "output_type": "stream",
     "text": [
      "100%|██████████| 20/20 [00:04<00:00,  4.93it/s]\n"
     ]
    },
    {
     "name": "stdout",
     "output_type": "stream",
     "text": [
      " loss = 1.1018, val_loss = 1.3001 (conf=0.2412, class=0.7480, coords=0.3108)\n",
      "Epoch 86 :\n"
     ]
    },
    {
     "name": "stderr",
     "output_type": "stream",
     "text": [
      "100%|██████████| 20/20 [00:04<00:00,  4.90it/s]\n"
     ]
    },
    {
     "name": "stdout",
     "output_type": "stream",
     "text": [
      " loss = 1.0319, val_loss = 1.3356 (conf=0.2217, class=0.8483, coords=0.2656)\n",
      "Epoch 87 :\n"
     ]
    },
    {
     "name": "stderr",
     "output_type": "stream",
     "text": [
      "100%|██████████| 20/20 [00:04<00:00,  4.88it/s]\n"
     ]
    },
    {
     "name": "stdout",
     "output_type": "stream",
     "text": [
      " loss = 1.0498, val_loss = 1.1667 (conf=0.2126, class=0.6462, coords=0.3079)\n",
      "Epoch 88 :\n"
     ]
    },
    {
     "name": "stderr",
     "output_type": "stream",
     "text": [
      "100%|██████████| 20/20 [00:04<00:00,  4.97it/s]\n"
     ]
    },
    {
     "name": "stdout",
     "output_type": "stream",
     "text": [
      " loss = 1.0401, val_loss = 1.1898 (conf=0.2159, class=0.6923, coords=0.2816)\n",
      "Epoch 89 :\n"
     ]
    },
    {
     "name": "stderr",
     "output_type": "stream",
     "text": [
      "100%|██████████| 20/20 [00:04<00:00,  4.94it/s]\n"
     ]
    },
    {
     "name": "stdout",
     "output_type": "stream",
     "text": [
      " loss = 1.0351, val_loss = 1.3187 (conf=0.2342, class=0.7803, coords=0.3042)\n",
      "Epoch 90 :\n"
     ]
    },
    {
     "name": "stderr",
     "output_type": "stream",
     "text": [
      "100%|██████████| 20/20 [00:04<00:00,  4.97it/s]\n"
     ]
    },
    {
     "name": "stdout",
     "output_type": "stream",
     "text": [
      " loss = 1.0353, val_loss = 1.2771 (conf=0.2230, class=0.7339, coords=0.3202)\n",
      "Epoch 91 :\n"
     ]
    },
    {
     "name": "stderr",
     "output_type": "stream",
     "text": [
      "100%|██████████| 20/20 [00:04<00:00,  4.94it/s]\n"
     ]
    },
    {
     "name": "stdout",
     "output_type": "stream",
     "text": [
      " loss = 1.0302, val_loss = 1.2316 (conf=0.2272, class=0.7122, coords=0.2922)\n",
      "Epoch 92 :\n"
     ]
    },
    {
     "name": "stderr",
     "output_type": "stream",
     "text": [
      "100%|██████████| 20/20 [00:04<00:00,  4.89it/s]\n"
     ]
    },
    {
     "name": "stdout",
     "output_type": "stream",
     "text": [
      " loss = 1.0291, val_loss = 1.0529 (conf=0.2333, class=0.5178, coords=0.3017)\n",
      "Epoch 93 :\n"
     ]
    },
    {
     "name": "stderr",
     "output_type": "stream",
     "text": [
      "100%|██████████| 20/20 [00:04<00:00,  4.91it/s]\n"
     ]
    },
    {
     "name": "stdout",
     "output_type": "stream",
     "text": [
      " loss = 1.0175, val_loss = 1.0708 (conf=0.2361, class=0.5807, coords=0.2541)\n",
      "Epoch 94 :\n"
     ]
    },
    {
     "name": "stderr",
     "output_type": "stream",
     "text": [
      "100%|██████████| 20/20 [00:04<00:00,  4.65it/s]\n"
     ]
    },
    {
     "name": "stdout",
     "output_type": "stream",
     "text": [
      " loss = 0.9873, val_loss = 1.1635 (conf=0.2256, class=0.6506, coords=0.2872)\n",
      "Epoch 95 :\n"
     ]
    },
    {
     "name": "stderr",
     "output_type": "stream",
     "text": [
      "100%|██████████| 20/20 [00:04<00:00,  4.81it/s]\n"
     ]
    },
    {
     "name": "stdout",
     "output_type": "stream",
     "text": [
      " loss = 1.0361, val_loss = 1.2605 (conf=0.1646, class=0.8038, coords=0.2921)\n",
      "Epoch 96 :\n"
     ]
    },
    {
     "name": "stderr",
     "output_type": "stream",
     "text": [
      "100%|██████████| 20/20 [00:04<00:00,  4.93it/s]\n"
     ]
    },
    {
     "name": "stdout",
     "output_type": "stream",
     "text": [
      " loss = 0.9641, val_loss = 1.2134 (conf=0.2154, class=0.7235, coords=0.2745)\n",
      "Epoch 97 :\n"
     ]
    },
    {
     "name": "stderr",
     "output_type": "stream",
     "text": [
      "100%|██████████| 20/20 [00:04<00:00,  4.87it/s]\n"
     ]
    },
    {
     "name": "stdout",
     "output_type": "stream",
     "text": [
      " loss = 0.9847, val_loss = 1.2208 (conf=0.2151, class=0.7047, coords=0.3011)\n",
      "Epoch 98 :\n"
     ]
    },
    {
     "name": "stderr",
     "output_type": "stream",
     "text": [
      "100%|██████████| 20/20 [00:04<00:00,  4.84it/s]\n"
     ]
    },
    {
     "name": "stdout",
     "output_type": "stream",
     "text": [
      " loss = 0.9511, val_loss = 1.1529 (conf=0.2026, class=0.6380, coords=0.3123)\n",
      "Epoch 99 :\n"
     ]
    },
    {
     "name": "stderr",
     "output_type": "stream",
     "text": [
      "100%|██████████| 20/20 [00:04<00:00,  4.87it/s]\n"
     ]
    },
    {
     "name": "stdout",
     "output_type": "stream",
     "text": [
      " loss = 0.8995, val_loss = 1.0644 (conf=0.2065, class=0.5671, coords=0.2907)\n",
      "Epoch 100 :\n"
     ]
    },
    {
     "name": "stderr",
     "output_type": "stream",
     "text": [
      "100%|██████████| 20/20 [00:04<00:00,  4.92it/s]\n"
     ]
    },
    {
     "name": "stdout",
     "output_type": "stream",
     "text": [
      " loss = 0.9418, val_loss = 1.2132 (conf=0.2231, class=0.7032, coords=0.2869)\n",
      "Epoch 101 :\n"
     ]
    },
    {
     "name": "stderr",
     "output_type": "stream",
     "text": [
      "100%|██████████| 20/20 [00:04<00:00,  4.82it/s]\n"
     ]
    },
    {
     "name": "stdout",
     "output_type": "stream",
     "text": [
      " loss = 0.9420, val_loss = 1.3044 (conf=0.2108, class=0.7643, coords=0.3294)\n",
      "Epoch 102 :\n"
     ]
    },
    {
     "name": "stderr",
     "output_type": "stream",
     "text": [
      "100%|██████████| 20/20 [00:04<00:00,  4.86it/s]\n"
     ]
    },
    {
     "name": "stdout",
     "output_type": "stream",
     "text": [
      " loss = 0.9828, val_loss = 1.0541 (conf=0.2091, class=0.5498, coords=0.2952)\n",
      "Epoch 103 :\n"
     ]
    },
    {
     "name": "stderr",
     "output_type": "stream",
     "text": [
      "100%|██████████| 20/20 [00:04<00:00,  4.87it/s]\n"
     ]
    },
    {
     "name": "stdout",
     "output_type": "stream",
     "text": [
      " loss = 0.9414, val_loss = 1.1522 (conf=0.1909, class=0.6703, coords=0.2909)\n",
      "Epoch 104 :\n"
     ]
    },
    {
     "name": "stderr",
     "output_type": "stream",
     "text": [
      "100%|██████████| 20/20 [00:04<00:00,  4.84it/s]\n"
     ]
    },
    {
     "name": "stdout",
     "output_type": "stream",
     "text": [
      " loss = 0.9483, val_loss = 1.1203 (conf=0.2272, class=0.6211, coords=0.2720)\n",
      "Epoch 105 :\n"
     ]
    },
    {
     "name": "stderr",
     "output_type": "stream",
     "text": [
      "100%|██████████| 20/20 [00:04<00:00,  4.86it/s]\n"
     ]
    },
    {
     "name": "stdout",
     "output_type": "stream",
     "text": [
      " loss = 0.9493, val_loss = 1.3238 (conf=0.2001, class=0.8343, coords=0.2894)\n",
      "Epoch 106 :\n"
     ]
    },
    {
     "name": "stderr",
     "output_type": "stream",
     "text": [
      "100%|██████████| 20/20 [00:04<00:00,  4.91it/s]\n"
     ]
    },
    {
     "name": "stdout",
     "output_type": "stream",
     "text": [
      " loss = 0.8748, val_loss = 1.0916 (conf=0.1923, class=0.6209, coords=0.2784)\n",
      "Epoch 107 :\n"
     ]
    },
    {
     "name": "stderr",
     "output_type": "stream",
     "text": [
      "100%|██████████| 20/20 [00:04<00:00,  4.90it/s]\n"
     ]
    },
    {
     "name": "stdout",
     "output_type": "stream",
     "text": [
      " loss = 0.8911, val_loss = 1.1124 (conf=0.2064, class=0.6234, coords=0.2826)\n",
      "Epoch 108 :\n"
     ]
    },
    {
     "name": "stderr",
     "output_type": "stream",
     "text": [
      "100%|██████████| 20/20 [00:04<00:00,  4.83it/s]\n"
     ]
    },
    {
     "name": "stdout",
     "output_type": "stream",
     "text": [
      " loss = 0.9068, val_loss = 1.2198 (conf=0.2148, class=0.7306, coords=0.2744)\n",
      "Epoch 109 :\n"
     ]
    },
    {
     "name": "stderr",
     "output_type": "stream",
     "text": [
      "100%|██████████| 20/20 [00:04<00:00,  4.93it/s]\n"
     ]
    },
    {
     "name": "stdout",
     "output_type": "stream",
     "text": [
      " loss = 0.8979, val_loss = 1.2720 (conf=0.2002, class=0.7672, coords=0.3047)\n",
      "Epoch 110 :\n"
     ]
    },
    {
     "name": "stderr",
     "output_type": "stream",
     "text": [
      "100%|██████████| 20/20 [00:04<00:00,  4.94it/s]\n"
     ]
    },
    {
     "name": "stdout",
     "output_type": "stream",
     "text": [
      " loss = 0.9042, val_loss = 1.0951 (conf=0.2073, class=0.6074, coords=0.2804)\n",
      "Epoch 111 :\n"
     ]
    },
    {
     "name": "stderr",
     "output_type": "stream",
     "text": [
      "100%|██████████| 20/20 [00:04<00:00,  4.90it/s]\n"
     ]
    },
    {
     "name": "stdout",
     "output_type": "stream",
     "text": [
      " loss = 0.8644, val_loss = 1.2597 (conf=0.1978, class=0.7736, coords=0.2883)\n",
      "Epoch 112 :\n"
     ]
    },
    {
     "name": "stderr",
     "output_type": "stream",
     "text": [
      "100%|██████████| 20/20 [00:04<00:00,  4.88it/s]\n"
     ]
    },
    {
     "name": "stdout",
     "output_type": "stream",
     "text": [
      " loss = 0.8940, val_loss = 1.2907 (conf=0.2176, class=0.7876, coords=0.2854)\n",
      "Epoch 113 :\n"
     ]
    },
    {
     "name": "stderr",
     "output_type": "stream",
     "text": [
      "100%|██████████| 20/20 [00:04<00:00,  4.93it/s]\n"
     ]
    },
    {
     "name": "stdout",
     "output_type": "stream",
     "text": [
      " loss = 0.8551, val_loss = 1.0768 (conf=0.2060, class=0.5540, coords=0.3169)\n",
      "Epoch 114 :\n"
     ]
    },
    {
     "name": "stderr",
     "output_type": "stream",
     "text": [
      "100%|██████████| 20/20 [00:04<00:00,  4.89it/s]\n"
     ]
    },
    {
     "name": "stdout",
     "output_type": "stream",
     "text": [
      " loss = 0.8561, val_loss = 0.9527 (conf=0.2004, class=0.4690, coords=0.2834)\n",
      "Epoch 115 :\n"
     ]
    },
    {
     "name": "stderr",
     "output_type": "stream",
     "text": [
      "100%|██████████| 20/20 [00:04<00:00,  4.89it/s]\n"
     ]
    },
    {
     "name": "stdout",
     "output_type": "stream",
     "text": [
      " loss = 0.8543, val_loss = 0.9976 (conf=0.2019, class=0.5066, coords=0.2891)\n",
      "Epoch 116 :\n"
     ]
    },
    {
     "name": "stderr",
     "output_type": "stream",
     "text": [
      "100%|██████████| 20/20 [00:04<00:00,  4.77it/s]\n"
     ]
    },
    {
     "name": "stdout",
     "output_type": "stream",
     "text": [
      " loss = 0.8402, val_loss = 1.3471 (conf=0.2050, class=0.8680, coords=0.2741)\n",
      "Epoch 117 :\n"
     ]
    },
    {
     "name": "stderr",
     "output_type": "stream",
     "text": [
      "100%|██████████| 20/20 [00:04<00:00,  4.91it/s]\n"
     ]
    },
    {
     "name": "stdout",
     "output_type": "stream",
     "text": [
      " loss = 0.8251, val_loss = 1.0798 (conf=0.1922, class=0.6184, coords=0.2691)\n",
      "Epoch 118 :\n"
     ]
    },
    {
     "name": "stderr",
     "output_type": "stream",
     "text": [
      "100%|██████████| 20/20 [00:04<00:00,  4.87it/s]\n"
     ]
    },
    {
     "name": "stdout",
     "output_type": "stream",
     "text": [
      " loss = 0.8773, val_loss = 1.0542 (conf=0.1986, class=0.5379, coords=0.3177)\n",
      "Epoch 119 :\n"
     ]
    },
    {
     "name": "stderr",
     "output_type": "stream",
     "text": [
      "100%|██████████| 20/20 [00:04<00:00,  4.91it/s]\n"
     ]
    },
    {
     "name": "stdout",
     "output_type": "stream",
     "text": [
      " loss = 0.8707, val_loss = 1.0901 (conf=0.2034, class=0.6211, coords=0.2657)\n",
      "Epoch 120 :\n"
     ]
    },
    {
     "name": "stderr",
     "output_type": "stream",
     "text": [
      "100%|██████████| 20/20 [00:04<00:00,  4.93it/s]\n"
     ]
    },
    {
     "name": "stdout",
     "output_type": "stream",
     "text": [
      " loss = 0.8078, val_loss = 1.1887 (conf=0.1857, class=0.6933, coords=0.3097)\n",
      "Epoch 121 :\n"
     ]
    },
    {
     "name": "stderr",
     "output_type": "stream",
     "text": [
      "100%|██████████| 20/20 [00:04<00:00,  4.90it/s]\n"
     ]
    },
    {
     "name": "stdout",
     "output_type": "stream",
     "text": [
      " loss = 0.8329, val_loss = 1.1647 (conf=0.1997, class=0.6702, coords=0.2948)\n",
      "Epoch 122 :\n"
     ]
    },
    {
     "name": "stderr",
     "output_type": "stream",
     "text": [
      "100%|██████████| 20/20 [00:03<00:00,  5.01it/s]\n"
     ]
    },
    {
     "name": "stdout",
     "output_type": "stream",
     "text": [
      " loss = 0.8075, val_loss = 0.9946 (conf=0.2158, class=0.5046, coords=0.2742)\n",
      "Epoch 123 :\n"
     ]
    },
    {
     "name": "stderr",
     "output_type": "stream",
     "text": [
      "100%|██████████| 20/20 [00:04<00:00,  4.91it/s]\n"
     ]
    },
    {
     "name": "stdout",
     "output_type": "stream",
     "text": [
      " loss = 0.8090, val_loss = 1.2325 (conf=0.1910, class=0.7325, coords=0.3090)\n",
      "Epoch 124 :\n"
     ]
    },
    {
     "name": "stderr",
     "output_type": "stream",
     "text": [
      "100%|██████████| 20/20 [00:04<00:00,  4.94it/s]\n"
     ]
    },
    {
     "name": "stdout",
     "output_type": "stream",
     "text": [
      " loss = 0.7787, val_loss = 1.2702 (conf=0.2021, class=0.7748, coords=0.2933)\n",
      "Epoch 125 :\n"
     ]
    },
    {
     "name": "stderr",
     "output_type": "stream",
     "text": [
      "100%|██████████| 20/20 [00:04<00:00,  4.82it/s]\n"
     ]
    },
    {
     "name": "stdout",
     "output_type": "stream",
     "text": [
      " loss = 0.8030, val_loss = 1.1451 (conf=0.1927, class=0.6553, coords=0.2971)\n",
      "Epoch 126 :\n"
     ]
    },
    {
     "name": "stderr",
     "output_type": "stream",
     "text": [
      "100%|██████████| 20/20 [00:04<00:00,  5.00it/s]\n"
     ]
    },
    {
     "name": "stdout",
     "output_type": "stream",
     "text": [
      " loss = 0.8263, val_loss = 1.0142 (conf=0.1905, class=0.5458, coords=0.2779)\n",
      "Epoch 127 :\n"
     ]
    },
    {
     "name": "stderr",
     "output_type": "stream",
     "text": [
      "100%|██████████| 20/20 [00:03<00:00,  5.00it/s]\n"
     ]
    },
    {
     "name": "stdout",
     "output_type": "stream",
     "text": [
      " loss = 0.7723, val_loss = 1.0305 (conf=0.1953, class=0.5572, coords=0.2781)\n",
      "Epoch 128 :\n"
     ]
    },
    {
     "name": "stderr",
     "output_type": "stream",
     "text": [
      "100%|██████████| 20/20 [00:04<00:00,  4.98it/s]\n"
     ]
    },
    {
     "name": "stdout",
     "output_type": "stream",
     "text": [
      " loss = 0.7897, val_loss = 1.2011 (conf=0.1843, class=0.7135, coords=0.3032)\n",
      "Epoch 129 :\n"
     ]
    },
    {
     "name": "stderr",
     "output_type": "stream",
     "text": [
      "100%|██████████| 20/20 [00:04<00:00,  4.96it/s]\n"
     ]
    },
    {
     "name": "stdout",
     "output_type": "stream",
     "text": [
      " loss = 0.7713, val_loss = 1.1388 (conf=0.2018, class=0.6560, coords=0.2811)\n",
      "Epoch 130 :\n"
     ]
    },
    {
     "name": "stderr",
     "output_type": "stream",
     "text": [
      "100%|██████████| 20/20 [00:04<00:00,  4.92it/s]\n"
     ]
    },
    {
     "name": "stdout",
     "output_type": "stream",
     "text": [
      " loss = 0.7813, val_loss = 1.0731 (conf=0.1979, class=0.6008, coords=0.2744)\n",
      "Epoch 131 :\n"
     ]
    },
    {
     "name": "stderr",
     "output_type": "stream",
     "text": [
      "100%|██████████| 20/20 [00:04<00:00,  4.96it/s]\n"
     ]
    },
    {
     "name": "stdout",
     "output_type": "stream",
     "text": [
      " loss = 0.7431, val_loss = 1.3519 (conf=0.1960, class=0.8850, coords=0.2709)\n",
      "Epoch 132 :\n"
     ]
    },
    {
     "name": "stderr",
     "output_type": "stream",
     "text": [
      "100%|██████████| 20/20 [00:04<00:00,  5.00it/s]\n"
     ]
    },
    {
     "name": "stdout",
     "output_type": "stream",
     "text": [
      " loss = 0.7838, val_loss = 1.1766 (conf=0.1927, class=0.6913, coords=0.2926)\n",
      "Epoch 133 :\n"
     ]
    },
    {
     "name": "stderr",
     "output_type": "stream",
     "text": [
      "100%|██████████| 20/20 [00:04<00:00,  4.96it/s]\n"
     ]
    },
    {
     "name": "stdout",
     "output_type": "stream",
     "text": [
      " loss = 0.8010, val_loss = 1.0144 (conf=0.1971, class=0.5636, coords=0.2536)\n",
      "Epoch 134 :\n"
     ]
    },
    {
     "name": "stderr",
     "output_type": "stream",
     "text": [
      "100%|██████████| 20/20 [00:04<00:00,  4.95it/s]\n"
     ]
    },
    {
     "name": "stdout",
     "output_type": "stream",
     "text": [
      " loss = 0.7111, val_loss = 1.0876 (conf=0.1925, class=0.5760, coords=0.3191)\n",
      "Epoch 135 :\n"
     ]
    },
    {
     "name": "stderr",
     "output_type": "stream",
     "text": [
      "100%|██████████| 20/20 [00:04<00:00,  4.96it/s]\n"
     ]
    },
    {
     "name": "stdout",
     "output_type": "stream",
     "text": [
      " loss = 0.7203, val_loss = 1.3003 (conf=0.1937, class=0.8250, coords=0.2816)\n",
      "Epoch 136 :\n"
     ]
    },
    {
     "name": "stderr",
     "output_type": "stream",
     "text": [
      "100%|██████████| 20/20 [00:04<00:00,  4.99it/s]\n"
     ]
    },
    {
     "name": "stdout",
     "output_type": "stream",
     "text": [
      " loss = 0.7496, val_loss = 1.1406 (conf=0.1951, class=0.6706, coords=0.2749)\n",
      "Epoch 137 :\n"
     ]
    },
    {
     "name": "stderr",
     "output_type": "stream",
     "text": [
      "100%|██████████| 20/20 [00:04<00:00,  4.86it/s]\n"
     ]
    },
    {
     "name": "stdout",
     "output_type": "stream",
     "text": [
      " loss = 0.7402, val_loss = 0.9492 (conf=0.2033, class=0.4708, coords=0.2750)\n",
      "Epoch 138 :\n"
     ]
    },
    {
     "name": "stderr",
     "output_type": "stream",
     "text": [
      "100%|██████████| 20/20 [00:04<00:00,  4.96it/s]\n"
     ]
    },
    {
     "name": "stdout",
     "output_type": "stream",
     "text": [
      " loss = 0.7497, val_loss = 1.1422 (conf=0.2079, class=0.6783, coords=0.2560)\n",
      "Epoch 139 :\n"
     ]
    },
    {
     "name": "stderr",
     "output_type": "stream",
     "text": [
      "100%|██████████| 20/20 [00:04<00:00,  4.98it/s]\n"
     ]
    },
    {
     "name": "stdout",
     "output_type": "stream",
     "text": [
      " loss = 0.7417, val_loss = 1.1694 (conf=0.1846, class=0.6850, coords=0.2999)\n",
      "Epoch 140 :\n"
     ]
    },
    {
     "name": "stderr",
     "output_type": "stream",
     "text": [
      "100%|██████████| 20/20 [00:04<00:00,  4.96it/s]\n"
     ]
    },
    {
     "name": "stdout",
     "output_type": "stream",
     "text": [
      " loss = 0.7631, val_loss = 1.0882 (conf=0.2068, class=0.6172, coords=0.2642)\n",
      "Epoch 141 :\n"
     ]
    },
    {
     "name": "stderr",
     "output_type": "stream",
     "text": [
      "100%|██████████| 20/20 [00:04<00:00,  4.94it/s]\n"
     ]
    },
    {
     "name": "stdout",
     "output_type": "stream",
     "text": [
      " loss = 0.7305, val_loss = 1.3697 (conf=0.2056, class=0.8546, coords=0.3095)\n",
      "Epoch 142 :\n"
     ]
    },
    {
     "name": "stderr",
     "output_type": "stream",
     "text": [
      "100%|██████████| 20/20 [00:04<00:00,  4.95it/s]\n"
     ]
    },
    {
     "name": "stdout",
     "output_type": "stream",
     "text": [
      " loss = 0.7173, val_loss = 1.0116 (conf=0.1850, class=0.5447, coords=0.2819)\n",
      "Epoch 143 :\n"
     ]
    },
    {
     "name": "stderr",
     "output_type": "stream",
     "text": [
      "100%|██████████| 20/20 [00:04<00:00,  4.96it/s]\n"
     ]
    },
    {
     "name": "stdout",
     "output_type": "stream",
     "text": [
      " loss = 0.7103, val_loss = 1.1416 (conf=0.1943, class=0.6708, coords=0.2764)\n",
      "Epoch 144 :\n"
     ]
    },
    {
     "name": "stderr",
     "output_type": "stream",
     "text": [
      "100%|██████████| 20/20 [00:04<00:00,  4.88it/s]\n"
     ]
    },
    {
     "name": "stdout",
     "output_type": "stream",
     "text": [
      " loss = 0.7167, val_loss = 1.0233 (conf=0.2024, class=0.5570, coords=0.2639)\n",
      "Epoch 145 :\n"
     ]
    },
    {
     "name": "stderr",
     "output_type": "stream",
     "text": [
      "100%|██████████| 20/20 [00:04<00:00,  4.82it/s]\n"
     ]
    },
    {
     "name": "stdout",
     "output_type": "stream",
     "text": [
      " loss = 0.7073, val_loss = 0.9026 (conf=0.1528, class=0.4666, coords=0.2832)\n",
      "Epoch 146 :\n"
     ]
    },
    {
     "name": "stderr",
     "output_type": "stream",
     "text": [
      "100%|██████████| 20/20 [00:04<00:00,  4.85it/s]\n"
     ]
    },
    {
     "name": "stdout",
     "output_type": "stream",
     "text": [
      " loss = 0.7122, val_loss = 1.2149 (conf=0.1985, class=0.7252, coords=0.2912)\n",
      "Epoch 147 :\n"
     ]
    },
    {
     "name": "stderr",
     "output_type": "stream",
     "text": [
      "100%|██████████| 20/20 [00:04<00:00,  4.90it/s]\n"
     ]
    },
    {
     "name": "stdout",
     "output_type": "stream",
     "text": [
      " loss = 0.6843, val_loss = 1.2179 (conf=0.1962, class=0.7377, coords=0.2840)\n",
      "Epoch 148 :\n"
     ]
    },
    {
     "name": "stderr",
     "output_type": "stream",
     "text": [
      "100%|██████████| 20/20 [00:04<00:00,  4.92it/s]\n"
     ]
    },
    {
     "name": "stdout",
     "output_type": "stream",
     "text": [
      " loss = 0.6844, val_loss = 1.2150 (conf=0.2084, class=0.6950, coords=0.3116)\n",
      "Epoch 149 :\n"
     ]
    },
    {
     "name": "stderr",
     "output_type": "stream",
     "text": [
      "100%|██████████| 20/20 [00:04<00:00,  4.86it/s]\n"
     ]
    },
    {
     "name": "stdout",
     "output_type": "stream",
     "text": [
      " loss = 0.7032, val_loss = 1.1835 (conf=0.1973, class=0.7092, coords=0.2770)\n",
      "Epoch 150 :\n"
     ]
    },
    {
     "name": "stderr",
     "output_type": "stream",
     "text": [
      "100%|██████████| 20/20 [00:04<00:00,  4.91it/s]\n"
     ]
    },
    {
     "name": "stdout",
     "output_type": "stream",
     "text": [
      " loss = 0.6598, val_loss = 0.9765 (conf=0.1801, class=0.5263, coords=0.2701)\n",
      "Epoch 151 :\n"
     ]
    },
    {
     "name": "stderr",
     "output_type": "stream",
     "text": [
      "100%|██████████| 20/20 [00:04<00:00,  4.90it/s]\n"
     ]
    },
    {
     "name": "stdout",
     "output_type": "stream",
     "text": [
      " loss = 0.6506, val_loss = 1.0366 (conf=0.1719, class=0.6210, coords=0.2437)\n",
      "Epoch 152 :\n"
     ]
    },
    {
     "name": "stderr",
     "output_type": "stream",
     "text": [
      "100%|██████████| 20/20 [00:04<00:00,  4.84it/s]\n"
     ]
    },
    {
     "name": "stdout",
     "output_type": "stream",
     "text": [
      " loss = 0.6744, val_loss = 0.9588 (conf=0.2026, class=0.4951, coords=0.2611)\n",
      "Epoch 153 :\n"
     ]
    },
    {
     "name": "stderr",
     "output_type": "stream",
     "text": [
      "100%|██████████| 20/20 [00:04<00:00,  4.94it/s]\n"
     ]
    },
    {
     "name": "stdout",
     "output_type": "stream",
     "text": [
      " loss = 0.6606, val_loss = 0.9475 (conf=0.1774, class=0.4998, coords=0.2703)\n",
      "Epoch 154 :\n"
     ]
    },
    {
     "name": "stderr",
     "output_type": "stream",
     "text": [
      "100%|██████████| 20/20 [00:04<00:00,  4.88it/s]\n"
     ]
    },
    {
     "name": "stdout",
     "output_type": "stream",
     "text": [
      " loss = 0.6714, val_loss = 1.2377 (conf=0.2026, class=0.7539, coords=0.2812)\n",
      "Epoch 155 :\n"
     ]
    },
    {
     "name": "stderr",
     "output_type": "stream",
     "text": [
      "100%|██████████| 20/20 [00:04<00:00,  4.89it/s]\n"
     ]
    },
    {
     "name": "stdout",
     "output_type": "stream",
     "text": [
      " loss = 0.6553, val_loss = 1.3324 (conf=0.1928, class=0.7943, coords=0.3453)\n",
      "Epoch 156 :\n"
     ]
    },
    {
     "name": "stderr",
     "output_type": "stream",
     "text": [
      "100%|██████████| 20/20 [00:04<00:00,  4.90it/s]\n"
     ]
    },
    {
     "name": "stdout",
     "output_type": "stream",
     "text": [
      " loss = 0.6718, val_loss = 1.0637 (conf=0.2019, class=0.6074, coords=0.2545)\n",
      "Epoch 157 :\n"
     ]
    },
    {
     "name": "stderr",
     "output_type": "stream",
     "text": [
      "100%|██████████| 20/20 [00:04<00:00,  4.90it/s]\n"
     ]
    },
    {
     "name": "stdout",
     "output_type": "stream",
     "text": [
      " loss = 0.6514, val_loss = 0.9481 (conf=0.1672, class=0.5047, coords=0.2762)\n",
      "Epoch 158 :\n"
     ]
    },
    {
     "name": "stderr",
     "output_type": "stream",
     "text": [
      "100%|██████████| 20/20 [00:04<00:00,  4.70it/s]\n"
     ]
    },
    {
     "name": "stdout",
     "output_type": "stream",
     "text": [
      " loss = 0.6425, val_loss = 1.0016 (conf=0.1774, class=0.5607, coords=0.2635)\n",
      "Epoch 159 :\n"
     ]
    },
    {
     "name": "stderr",
     "output_type": "stream",
     "text": [
      "100%|██████████| 20/20 [00:04<00:00,  4.79it/s]\n"
     ]
    },
    {
     "name": "stdout",
     "output_type": "stream",
     "text": [
      " loss = 0.6620, val_loss = 1.0673 (conf=0.1938, class=0.5891, coords=0.2844)\n",
      "Epoch 160 :\n"
     ]
    },
    {
     "name": "stderr",
     "output_type": "stream",
     "text": [
      "100%|██████████| 20/20 [00:04<00:00,  4.84it/s]\n"
     ]
    },
    {
     "name": "stdout",
     "output_type": "stream",
     "text": [
      " loss = 0.6380, val_loss = 1.0426 (conf=0.1769, class=0.5877, coords=0.2779)\n",
      "Epoch 161 :\n"
     ]
    },
    {
     "name": "stderr",
     "output_type": "stream",
     "text": [
      "100%|██████████| 20/20 [00:04<00:00,  4.90it/s]\n"
     ]
    },
    {
     "name": "stdout",
     "output_type": "stream",
     "text": [
      " loss = 0.6504, val_loss = 1.0281 (conf=0.1928, class=0.5493, coords=0.2860)\n",
      "Epoch 162 :\n"
     ]
    },
    {
     "name": "stderr",
     "output_type": "stream",
     "text": [
      "100%|██████████| 20/20 [00:04<00:00,  4.91it/s]\n"
     ]
    },
    {
     "name": "stdout",
     "output_type": "stream",
     "text": [
      " loss = 0.6038, val_loss = 1.0620 (conf=0.1965, class=0.6121, coords=0.2535)\n",
      "Epoch 163 :\n"
     ]
    },
    {
     "name": "stderr",
     "output_type": "stream",
     "text": [
      "100%|██████████| 20/20 [00:04<00:00,  4.92it/s]\n"
     ]
    },
    {
     "name": "stdout",
     "output_type": "stream",
     "text": [
      " loss = 0.6317, val_loss = 1.0843 (conf=0.1705, class=0.6323, coords=0.2815)\n",
      "Epoch 164 :\n"
     ]
    },
    {
     "name": "stderr",
     "output_type": "stream",
     "text": [
      "100%|██████████| 20/20 [00:04<00:00,  4.96it/s]\n"
     ]
    },
    {
     "name": "stdout",
     "output_type": "stream",
     "text": [
      " loss = 0.6173, val_loss = 1.3516 (conf=0.1983, class=0.8883, coords=0.2650)\n",
      "Epoch 165 :\n"
     ]
    },
    {
     "name": "stderr",
     "output_type": "stream",
     "text": [
      "100%|██████████| 20/20 [00:04<00:00,  4.89it/s]\n"
     ]
    },
    {
     "name": "stdout",
     "output_type": "stream",
     "text": [
      " loss = 0.6255, val_loss = 1.1278 (conf=0.1720, class=0.6942, coords=0.2615)\n",
      "Epoch 166 :\n"
     ]
    },
    {
     "name": "stderr",
     "output_type": "stream",
     "text": [
      "100%|██████████| 20/20 [00:04<00:00,  4.88it/s]\n"
     ]
    },
    {
     "name": "stdout",
     "output_type": "stream",
     "text": [
      " loss = 0.6189, val_loss = 0.9494 (conf=0.1749, class=0.5051, coords=0.2693)\n",
      "Epoch 167 :\n"
     ]
    },
    {
     "name": "stderr",
     "output_type": "stream",
     "text": [
      "100%|██████████| 20/20 [00:04<00:00,  4.88it/s]\n"
     ]
    },
    {
     "name": "stdout",
     "output_type": "stream",
     "text": [
      " loss = 0.6244, val_loss = 1.1803 (conf=0.1726, class=0.7241, coords=0.2836)\n",
      "Epoch 168 :\n"
     ]
    },
    {
     "name": "stderr",
     "output_type": "stream",
     "text": [
      "100%|██████████| 20/20 [00:04<00:00,  4.92it/s]\n"
     ]
    },
    {
     "name": "stdout",
     "output_type": "stream",
     "text": [
      " loss = 0.6566, val_loss = 1.0616 (conf=0.1803, class=0.6017, coords=0.2796)\n",
      "Epoch 169 :\n"
     ]
    },
    {
     "name": "stderr",
     "output_type": "stream",
     "text": [
      "100%|██████████| 20/20 [00:04<00:00,  4.91it/s]\n"
     ]
    },
    {
     "name": "stdout",
     "output_type": "stream",
     "text": [
      " loss = 0.6258, val_loss = 0.9585 (conf=0.2085, class=0.4641, coords=0.2859)\n",
      "Epoch 170 :\n"
     ]
    },
    {
     "name": "stderr",
     "output_type": "stream",
     "text": [
      "100%|██████████| 20/20 [00:04<00:00,  4.91it/s]\n"
     ]
    },
    {
     "name": "stdout",
     "output_type": "stream",
     "text": [
      " loss = 0.6062, val_loss = 0.8204 (conf=0.1829, class=0.3663, coords=0.2712)\n",
      "Epoch 171 :\n"
     ]
    },
    {
     "name": "stderr",
     "output_type": "stream",
     "text": [
      "100%|██████████| 20/20 [00:04<00:00,  4.93it/s]\n"
     ]
    },
    {
     "name": "stdout",
     "output_type": "stream",
     "text": [
      " loss = 0.5928, val_loss = 0.9019 (conf=0.1814, class=0.4553, coords=0.2652)\n",
      "Epoch 172 :\n"
     ]
    },
    {
     "name": "stderr",
     "output_type": "stream",
     "text": [
      "100%|██████████| 20/20 [00:04<00:00,  4.93it/s]\n"
     ]
    },
    {
     "name": "stdout",
     "output_type": "stream",
     "text": [
      " loss = 0.5958, val_loss = 0.9872 (conf=0.1798, class=0.5240, coords=0.2835)\n",
      "Epoch 173 :\n"
     ]
    },
    {
     "name": "stderr",
     "output_type": "stream",
     "text": [
      "100%|██████████| 20/20 [00:04<00:00,  4.85it/s]\n"
     ]
    },
    {
     "name": "stdout",
     "output_type": "stream",
     "text": [
      " loss = 0.6192, val_loss = 1.2593 (conf=0.2113, class=0.7811, coords=0.2668)\n",
      "Epoch 174 :\n"
     ]
    },
    {
     "name": "stderr",
     "output_type": "stream",
     "text": [
      "100%|██████████| 20/20 [00:04<00:00,  4.96it/s]\n"
     ]
    },
    {
     "name": "stdout",
     "output_type": "stream",
     "text": [
      " loss = 0.6089, val_loss = 1.1874 (conf=0.1695, class=0.7645, coords=0.2534)\n",
      "Epoch 175 :\n"
     ]
    },
    {
     "name": "stderr",
     "output_type": "stream",
     "text": [
      "100%|██████████| 20/20 [00:04<00:00,  4.91it/s]\n"
     ]
    },
    {
     "name": "stdout",
     "output_type": "stream",
     "text": [
      " loss = 0.5944, val_loss = 1.2350 (conf=0.1883, class=0.7642, coords=0.2824)\n",
      "Epoch 176 :\n"
     ]
    },
    {
     "name": "stderr",
     "output_type": "stream",
     "text": [
      "100%|██████████| 20/20 [00:04<00:00,  4.90it/s]\n"
     ]
    },
    {
     "name": "stdout",
     "output_type": "stream",
     "text": [
      " loss = 0.5962, val_loss = 1.1391 (conf=0.1839, class=0.6891, coords=0.2661)\n",
      "Epoch 177 :\n"
     ]
    },
    {
     "name": "stderr",
     "output_type": "stream",
     "text": [
      "100%|██████████| 20/20 [00:04<00:00,  4.91it/s]\n"
     ]
    },
    {
     "name": "stdout",
     "output_type": "stream",
     "text": [
      " loss = 0.5827, val_loss = 0.9769 (conf=0.1769, class=0.5027, coords=0.2973)\n",
      "Epoch 178 :\n"
     ]
    },
    {
     "name": "stderr",
     "output_type": "stream",
     "text": [
      "100%|██████████| 20/20 [00:04<00:00,  4.93it/s]\n"
     ]
    },
    {
     "name": "stdout",
     "output_type": "stream",
     "text": [
      " loss = 0.5890, val_loss = 0.9823 (conf=0.1739, class=0.5336, coords=0.2749)\n",
      "Epoch 179 :\n"
     ]
    },
    {
     "name": "stderr",
     "output_type": "stream",
     "text": [
      "100%|██████████| 20/20 [00:04<00:00,  4.95it/s]\n"
     ]
    },
    {
     "name": "stdout",
     "output_type": "stream",
     "text": [
      " loss = 0.5679, val_loss = 0.9907 (conf=0.1764, class=0.5447, coords=0.2697)\n",
      "Epoch 180 :\n"
     ]
    },
    {
     "name": "stderr",
     "output_type": "stream",
     "text": [
      "100%|██████████| 20/20 [00:04<00:00,  4.95it/s]\n"
     ]
    },
    {
     "name": "stdout",
     "output_type": "stream",
     "text": [
      " loss = 0.5786, val_loss = 1.3475 (conf=0.1899, class=0.8688, coords=0.2888)\n",
      "Epoch 181 :\n"
     ]
    },
    {
     "name": "stderr",
     "output_type": "stream",
     "text": [
      "100%|██████████| 20/20 [00:04<00:00,  4.87it/s]\n"
     ]
    },
    {
     "name": "stdout",
     "output_type": "stream",
     "text": [
      " loss = 0.5666, val_loss = 1.2708 (conf=0.1651, class=0.8196, coords=0.2861)\n",
      "Epoch 182 :\n"
     ]
    },
    {
     "name": "stderr",
     "output_type": "stream",
     "text": [
      "100%|██████████| 20/20 [00:04<00:00,  4.94it/s]\n"
     ]
    },
    {
     "name": "stdout",
     "output_type": "stream",
     "text": [
      " loss = 0.5824, val_loss = 1.1284 (conf=0.1801, class=0.6677, coords=0.2806)\n",
      "Epoch 183 :\n"
     ]
    },
    {
     "name": "stderr",
     "output_type": "stream",
     "text": [
      "100%|██████████| 20/20 [00:04<00:00,  4.98it/s]\n"
     ]
    },
    {
     "name": "stdout",
     "output_type": "stream",
     "text": [
      " loss = 0.5662, val_loss = 1.0370 (conf=0.1937, class=0.5808, coords=0.2625)\n",
      "Epoch 184 :\n"
     ]
    },
    {
     "name": "stderr",
     "output_type": "stream",
     "text": [
      "100%|██████████| 20/20 [00:04<00:00,  4.99it/s]\n"
     ]
    },
    {
     "name": "stdout",
     "output_type": "stream",
     "text": [
      " loss = 0.5675, val_loss = 0.7915 (conf=0.1757, class=0.3396, coords=0.2761)\n",
      "Epoch 185 :\n"
     ]
    },
    {
     "name": "stderr",
     "output_type": "stream",
     "text": [
      "100%|██████████| 20/20 [00:04<00:00,  4.96it/s]\n"
     ]
    },
    {
     "name": "stdout",
     "output_type": "stream",
     "text": [
      " loss = 0.5594, val_loss = 1.0716 (conf=0.1767, class=0.6308, coords=0.2641)\n",
      "Epoch 186 :\n"
     ]
    },
    {
     "name": "stderr",
     "output_type": "stream",
     "text": [
      "100%|██████████| 20/20 [00:04<00:00,  4.96it/s]\n"
     ]
    },
    {
     "name": "stdout",
     "output_type": "stream",
     "text": [
      " loss = 0.5662, val_loss = 1.0886 (conf=0.1919, class=0.5916, coords=0.3051)\n",
      "Epoch 187 :\n"
     ]
    },
    {
     "name": "stderr",
     "output_type": "stream",
     "text": [
      "100%|██████████| 20/20 [00:04<00:00,  4.99it/s]\n"
     ]
    },
    {
     "name": "stdout",
     "output_type": "stream",
     "text": [
      " loss = 0.5510, val_loss = 0.9823 (conf=0.2006, class=0.5105, coords=0.2712)\n",
      "Epoch 188 :\n"
     ]
    },
    {
     "name": "stderr",
     "output_type": "stream",
     "text": [
      "100%|██████████| 20/20 [00:04<00:00,  4.91it/s]\n"
     ]
    },
    {
     "name": "stdout",
     "output_type": "stream",
     "text": [
      " loss = 0.5622, val_loss = 1.2252 (conf=0.1856, class=0.7350, coords=0.3047)\n",
      "Epoch 189 :\n"
     ]
    },
    {
     "name": "stderr",
     "output_type": "stream",
     "text": [
      "100%|██████████| 20/20 [00:04<00:00,  4.96it/s]\n"
     ]
    },
    {
     "name": "stdout",
     "output_type": "stream",
     "text": [
      " loss = 0.5579, val_loss = 1.0198 (conf=0.1604, class=0.6061, coords=0.2533)\n",
      "Epoch 190 :\n"
     ]
    },
    {
     "name": "stderr",
     "output_type": "stream",
     "text": [
      "100%|██████████| 20/20 [00:04<00:00,  4.99it/s]\n"
     ]
    },
    {
     "name": "stdout",
     "output_type": "stream",
     "text": [
      " loss = 0.5669, val_loss = 1.1017 (conf=0.2043, class=0.6041, coords=0.2933)\n",
      "Epoch 191 :\n"
     ]
    },
    {
     "name": "stderr",
     "output_type": "stream",
     "text": [
      "100%|██████████| 20/20 [00:04<00:00,  4.80it/s]\n"
     ]
    },
    {
     "name": "stdout",
     "output_type": "stream",
     "text": [
      " loss = 0.5459, val_loss = 1.0268 (conf=0.1615, class=0.6183, coords=0.2470)\n",
      "Epoch 192 :\n"
     ]
    },
    {
     "name": "stderr",
     "output_type": "stream",
     "text": [
      "100%|██████████| 20/20 [00:04<00:00,  4.96it/s]\n"
     ]
    },
    {
     "name": "stdout",
     "output_type": "stream",
     "text": [
      " loss = 0.5659, val_loss = 1.0928 (conf=0.1699, class=0.6557, coords=0.2671)\n",
      "Epoch 193 :\n"
     ]
    },
    {
     "name": "stderr",
     "output_type": "stream",
     "text": [
      "100%|██████████| 20/20 [00:04<00:00,  4.91it/s]\n"
     ]
    },
    {
     "name": "stdout",
     "output_type": "stream",
     "text": [
      " loss = 0.5435, val_loss = 1.3415 (conf=0.1977, class=0.8717, coords=0.2720)\n",
      "Epoch 194 :\n"
     ]
    },
    {
     "name": "stderr",
     "output_type": "stream",
     "text": [
      "100%|██████████| 20/20 [00:04<00:00,  4.88it/s]\n"
     ]
    },
    {
     "name": "stdout",
     "output_type": "stream",
     "text": [
      " loss = 0.5503, val_loss = 1.0963 (conf=0.1944, class=0.6041, coords=0.2978)\n",
      "Epoch 195 :\n"
     ]
    },
    {
     "name": "stderr",
     "output_type": "stream",
     "text": [
      "100%|██████████| 20/20 [00:04<00:00,  4.81it/s]\n"
     ]
    },
    {
     "name": "stdout",
     "output_type": "stream",
     "text": [
      " loss = 0.5563, val_loss = 1.2989 (conf=0.1947, class=0.8315, coords=0.2727)\n",
      "Epoch 196 :\n"
     ]
    },
    {
     "name": "stderr",
     "output_type": "stream",
     "text": [
      "100%|██████████| 20/20 [00:04<00:00,  4.84it/s]\n"
     ]
    },
    {
     "name": "stdout",
     "output_type": "stream",
     "text": [
      " loss = 0.5687, val_loss = 1.0659 (conf=0.1698, class=0.6206, coords=0.2755)\n",
      "Epoch 197 :\n"
     ]
    },
    {
     "name": "stderr",
     "output_type": "stream",
     "text": [
      "100%|██████████| 20/20 [00:04<00:00,  4.88it/s]\n"
     ]
    },
    {
     "name": "stdout",
     "output_type": "stream",
     "text": [
      " loss = 0.5296, val_loss = 0.9333 (conf=0.1847, class=0.5092, coords=0.2395)\n",
      "Epoch 198 :\n"
     ]
    },
    {
     "name": "stderr",
     "output_type": "stream",
     "text": [
      "100%|██████████| 20/20 [00:04<00:00,  4.91it/s]\n"
     ]
    },
    {
     "name": "stdout",
     "output_type": "stream",
     "text": [
      " loss = 0.5174, val_loss = 1.0007 (conf=0.1726, class=0.5597, coords=0.2685)\n",
      "Epoch 199 :\n"
     ]
    },
    {
     "name": "stderr",
     "output_type": "stream",
     "text": [
      "100%|██████████| 20/20 [00:04<00:00,  4.90it/s]\n"
     ]
    },
    {
     "name": "stdout",
     "output_type": "stream",
     "text": [
      " loss = 0.5399, val_loss = 0.8349 (conf=0.1563, class=0.4279, coords=0.2507)\n"
     ]
    },
    {
     "data": {
      "text/plain": [
       "[<matplotlib.lines.Line2D at 0x7f650c4ef6d0>]"
      ]
     },
     "execution_count": 66,
     "metadata": {},
     "output_type": "execute_result"
    },
    {
     "data": {
      "image/png": "[encoded data removed]",
      "text/plain": [
       "<Figure size 640x480 with 1 Axes>"
      ]
     },
     "metadata": {},
     "output_type": "display_data"
    }
   ],
   "source": [
    "results = train(EPOCHS, model, train_gen, val_gen, 20, 2, 'training_5')\n",
    "\n",
    "plt.plot(results[0])\n",
    "plt.plot(results[1])"
   ]
  },
  {
   "cell_type": "markdown",
   "metadata": {},
   "source": [
    "# Predict test data"
   ]
  },
  {
   "cell_type": "code",
   "execution_count": 92,
   "metadata": {},
   "outputs": [],
   "source": [
    "def process_output(y_pred, score_threshold, iou_threshold):\n",
    "    # post prediction process\n",
    "    # grid coords tensor\n",
    "    coord_x = tf.cast(tf.reshape(tf.tile(tf.range(GRID_W), [GRID_H]), (1, GRID_H, GRID_W, 1, 1)), tf.float32)\n",
    "    coord_y = tf.transpose(coord_x, (0,2,1,3,4))\n",
    "    coords = tf.tile(tf.concat([coord_x,coord_y], -1), [TRAIN_BATCH_SIZE, 1, 1, 5, 1])\n",
    "    dims = K.cast_to_floatx(K.int_shape(y_pred)[1:3])\n",
    "    dims = K.reshape(dims,(1,1,1,1,2))\n",
    "    # anchors tensor\n",
    "    anchors = np.array(ANCHORS)\n",
    "    anchors = anchors.reshape(len(anchors) // 2, 2)\n",
    "    # pred_xy and pred_wh shape (m, GRID_W, GRID_H, Anchors, 2)\n",
    "    pred_xy = K.sigmoid(y_pred[:,:,:,:,0:2])\n",
    "    pred_xy = (pred_xy + coords)\n",
    "    pred_xy = pred_xy / dims\n",
    "    pred_wh = K.exp(y_pred[:,:,:,:,2:4])\n",
    "    pred_wh = (pred_wh * anchors)\n",
    "    pred_wh = pred_wh / dims\n",
    "    # pred_confidence\n",
    "    box_conf = K.sigmoid(y_pred[:,:,:,:,4:5])  \n",
    "    # pred_class\n",
    "    box_class_prob = K.softmax(y_pred[:,:,:,:,5:])\n",
    "\n",
    "    # Reshape\n",
    "    pred_xy = pred_xy[0,...]\n",
    "    pred_wh = pred_wh[0,...]\n",
    "    box_conf = box_conf[0,...]\n",
    "    box_class_prob = box_class_prob[0,...]\n",
    "\n",
    "    # Convert box coords from x,y,w,h to x1,y1,x2,y2\n",
    "    box_xy1 = pred_xy - 0.5 * pred_wh\n",
    "    box_xy2 = pred_xy + 0.5 * pred_wh\n",
    "    boxes = K.concatenate((box_xy1, box_xy2), axis=-1)\n",
    "\n",
    "    # Filter boxes\n",
    "    box_scores = box_conf * box_class_prob\n",
    "    box_classes = K.argmax(box_scores, axis=-1) # best score index\n",
    "    # print(box_classes)\n",
    "    box_class_scores = K.max(box_scores, axis=-1) # best score\n",
    "    prediction_mask = box_class_scores >= score_threshold\n",
    "    boxes = tf.boolean_mask(boxes, prediction_mask)\n",
    "    scores = tf.boolean_mask(box_class_scores, prediction_mask)\n",
    "    classes = tf.boolean_mask(box_classes, prediction_mask)\n",
    "\n",
    "    # Scale box to image shape\n",
    "    boxes = boxes * IMAGE_H\n",
    "\n",
    "    # Non Max Supression\n",
    "    selected_idx = tf.image.non_max_suppression(boxes, scores, 50, iou_threshold=iou_threshold)\n",
    "    boxes = K.gather(boxes, selected_idx)\n",
    "    scores = K.gather(scores, selected_idx)\n",
    "    classes = K.gather(classes, selected_idx)\n",
    "    \n",
    "    count_detected = boxes.shape[0]\n",
    "\n",
    "    xmins = []\n",
    "    ymins = []\n",
    "    xmaxs = []\n",
    "    ymaxs = []\n",
    "    class_nums = []\n",
    "    confs = []\n",
    "    for i in range(count_detected):\n",
    "        # print(i)\n",
    "        box = boxes[i,...]\n",
    "\n",
    "        xmins.append(int(tf.math.round(box[0])))\n",
    "        ymins.append(int(tf.math.round(box[1])))\n",
    "        xmaxs.append(int(tf.math.round(box[2])))\n",
    "        ymaxs.append(int(tf.math.round(box[3])))\n",
    "        class_nums.append(classes[i].numpy())\n",
    "        confs.append(scores[i].numpy())\n",
    "\n",
    "    return xmins, ymins, xmaxs, ymaxs, class_nums, confs"
   ]
  },
  {
   "cell_type": "code",
   "execution_count": 49,
   "metadata": {},
   "outputs": [],
   "source": [
    "model_n = keras.models.Model(input_image, output)\n",
    "model_n.load_weights('weights/training_2_2.4375658.h5')"
   ]
  },
  {
   "cell_type": "code",
   "execution_count": 104,
   "metadata": {},
   "outputs": [],
   "source": [
    "test_img_files = open('./pascal_voc_testing_data.txt')\n",
    "test_img_dir = './VOCdevkit_test/VOC2007/JPEGImages/'\n",
    "test_images = []\n",
    "\n",
    "for line in test_img_files:\n",
    "    line = line.strip()\n",
    "    ss = line.split(' ')\n",
    "    test_images.append(ss[0])\n",
    "\n",
    "test_dataset = tf.data.Dataset.from_tensor_slices(test_images)\n",
    "\n",
    "def load_img_data(image_name):\n",
    "    image_file = tf.io.read_file(test_img_dir+image_name)\n",
    "    image = tf.image.decode_jpeg(image_file, channels=3)\n",
    "\n",
    "    h = tf.shape(image)[0]\n",
    "    w = tf.shape(image)[1]\n",
    "\n",
    "    image = tf.image.resize(image, size=[IMAGE_H, IMAGE_W])\n",
    "    image = image/255.\n",
    "    \n",
    "\n",
    "    return image_name, image, h, w\n",
    "\n",
    "test_dataset = test_dataset.map(load_img_data, num_parallel_calls = tf.data.experimental.AUTOTUNE)\n",
    "test_dataset = test_dataset.batch(32)"
   ]
  },
  {
   "cell_type": "code",
   "execution_count": null,
   "metadata": {},
   "outputs": [],
   "source": [
    "output_file = open('./test_prediction.txt', 'w')\n",
    "\n",
    "for img_name, test_img, img_h, img_w in test_dataset:\n",
    "    batch_num = img_name.shape[0]\n",
    "    for i in range(batch_num):\n",
    "        input_image = np.expand_dims(test_img[i], 0)\n",
    "        y_pred = model.predict_on_batch(input_image)\n",
    "\n",
    "        xmin, ymin, xmax, ymax, class_num, conf = process_output(y_pred,0.35,0.15)\n",
    "        # print(len(xmin))\n",
    "        string = \"\"\n",
    "        for j in range(len(xmin)):\n",
    "          xmin[j], ymin[j], xmax[j], ymax[j] = xmin[j]*(img_w[i:i+1]/IMAGE_H), ymin[j]*(img_h[i:i+1]/IMAGE_W), xmax[j]*(img_w[i:i+1]/IMAGE_H), ymax[j]*(img_h[i:i+1]/IMAGE_W)\n",
    "          string = string + (\" %d %d %d %d %d %f\" %(xmin[j], ymin[j], xmax[j], ymax[j], class_num[j], conf[j]))\n",
    "        #output_file.write(img_name[i:i+1].numpy()[0].decode('ascii')+\" %d %d %d %d %d %f\\n\" %(xmin, ymin, xmax, ymax, class_num, conf))\n",
    "        output_file.write(img_name[i:i+1].numpy()[0].decode('ascii')+string+\"\\n\")\n",
    "\n",
    "output_file.close()"
   ]
  },
  {
   "cell_type": "code",
   "execution_count": 118,
   "metadata": {},
   "outputs": [],
   "source": [
    "import sys\n",
    "sys.path.insert(0, './evaluate')"
   ]
  },
  {
   "cell_type": "code",
   "execution_count": 119,
   "metadata": {},
   "outputs": [
    {
     "name": "stdout",
     "output_type": "stream",
     "text": [
      "End Evalutation\n"
     ]
    }
   ],
   "source": [
    "import evaluate\n",
    "#evaluate.evaluate(\"input prediction file name\", \"desire output csv file name\")\n",
    "evaluate.evaluate('./test_prediction.txt', './output_file.csv')"
   ]
  }
 ],
 "metadata": {
  "kernelspec": {
   "display_name": "Python 3.8.13 ('DL_3': conda)",
   "language": "python",
   "name": "python3"
  },
  "language_info": {
   "codemirror_mode": {
    "name": "ipython",
    "version": 3
   },
   "file_extension": ".py",
   "mimetype": "text/x-python",
   "name": "python",
   "nbconvert_exporter": "python",
   "pygments_lexer": "ipython3",
   "version": "3.8.13"
  },
  "orig_nbformat": 4,
  "vscode": {
   "interpreter": {
    "hash": "b1831c58f92701ae79f9fae5878847f8cd80685484b9f3653124347c70b36682"
   }
  }
 },
 "nbformat": 4,
 "nbformat_minor": 2
}
